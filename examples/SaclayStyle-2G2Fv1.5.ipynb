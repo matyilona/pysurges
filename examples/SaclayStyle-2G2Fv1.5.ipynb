{
 "cells": [
  {
   "cell_type": "markdown",
   "metadata": {},
   "source": [
    "# SaclayStyle-2g2fv1.5\n",
    "\n",
    "- based on the design of https://doi.org/10.1103/PhysRevX.9.011010\n",
    "- 2 gate lines\n",
    "- 2 flux lines\n",
    "- every dimension is parametric, no magic numbers\n",
    "\n",
    "Differences compared to v1:\n",
    "- minimize number of polys\n",
    "- new fluxlines (based on arXiv:2004.03975 [cond-mat])\n",
    "- All lines as lines (to be converted to fbms paths\n"
   ]
  },
  {
   "cell_type": "code",
   "execution_count": 3,
   "metadata": {
    "ExecuteTime": {
     "end_time": "2020-09-07T10:51:38.300892Z",
     "start_time": "2020-09-07T10:51:38.287247Z"
    }
   },
   "outputs": [],
   "source": [
    "import sys\n",
    "sys.path.append(\"..\")\n",
    "\n",
    "import display as disp\n",
    "import shapes as shp\n",
    "\n",
    "from export import dxf, gds, frozen_notebook\n",
    "\n",
    "import shapely as sp\n",
    "from shapely import affinity as aff\n",
    "from shapely.geometry import Point, LineString, Polygon, MultiLineString, MultiPolygon\n",
    "\n",
    "import numpy as np\n",
    "import re"
   ]
  },
  {
   "cell_type": "markdown",
   "metadata": {},
   "source": [
    "### Parameters\n",
    "Defining all the parameters."
   ]
  },
  {
   "cell_type": "code",
   "execution_count": 4,
   "metadata": {
    "ExecuteTime": {
     "end_time": "2020-09-07T10:51:39.279315Z",
     "start_time": "2020-09-07T10:51:39.268502Z"
    }
   },
   "outputs": [],
   "source": [
    "circle_polys = 16 #number of vertices in a circle\n",
    "s = 15. #cpwg s\n",
    "w = 5. #cpwg w\n",
    "launcher_width = 240. #launcher bondingpad size\n",
    "launcher_transition = 200. #launcher triangle length\n",
    "launcher_gap = 60. #gap around bonding pad of launcher\n",
    "margin = 20. #empty region around edge of WF\n",
    "WF = 2000. #WF size\n",
    "hanger_length = 420. #length of hanger piece parallel to feedline\n",
    "coupling_dist = 3. #distance of hanger from feedline\n",
    "hanger_offset = 90. #offset of hanger from launcher\n",
    "hanger_endgap = 23. #length of ditch at open end of resonator\n",
    "meander_r = 75. #meander radius\n",
    "L = 7*700+1000+420+4*2*75*np.pi #approx full length of resonator (calcualted from earlier samples)\n",
    "inlauncher_width = 130 # width on inlauncher triangle base\n",
    "inlauncher_length = 100 #length of inlauncher triangle\n",
    "inlauncher_gap = 100 #gap around inlauncher\n",
    "inlauncher_leggap = 3 #width of legs on inlauncher\n",
    "samplespaceA = 300 #width of samplespace\n",
    "samplespaceB = 600 #length of samplespace\n",
    "fluxline_extender = 10 #lengt of the extended flux line"
   ]
  },
  {
   "cell_type": "markdown",
   "metadata": {},
   "source": [
    "### Launcher and feedline\n",
    "Defining the feedline on which transmission is measured, as well as the two launchers. Since shapely affine transformations return copies, rather than transforming the original, only one launcher has to be defined, all others can be copies.\n",
    "\n",
    "Launchers are placed at the edge of the WF, to maximize the available area for the samplespace and resonator (a small margin is kept from the edge to ease the EBL process)."
   ]
  },
  {
   "cell_type": "code",
   "execution_count": 5,
   "metadata": {
    "ExecuteTime": {
     "end_time": "2020-09-07T10:51:40.037840Z",
     "start_time": "2020-09-07T10:51:40.027065Z"
    }
   },
   "outputs": [],
   "source": [
    "launchL, _, _ = shp.launcher( s, w,\n",
    "                        launcher_width, launcher_width , launcher_transition, launcher_gap )\n",
    "launchR = aff.rotate( launchL , angle=180, origin=(0,0) )\n",
    "b = launchL.bounds\n",
    "lw = b[2] - b[0]\n",
    "lh = b[3] - b[1]\n",
    "launchL = aff.translate( launchL, WF-margin-b[2] , lh/2+margin )\n",
    "launchR = aff.translate( launchR, lw+margin, lh/2+margin )\n",
    "\n",
    "feed_line = LineString(\n",
    "    ((lw+margin,lh/2+margin),\n",
    "     (WF-margin-lw,lh/2+margin))\n",
    ")\n",
    "_,_,feed_lineL, feed_lineR = shp.line_to_cpwg( feed_line, s, w )"
   ]
  },
  {
   "cell_type": "code",
   "execution_count": 6,
   "metadata": {
    "ExecuteTime": {
     "end_time": "2020-09-07T10:51:40.446603Z",
     "start_time": "2020-09-07T10:51:40.427924Z"
    },
    "hide_input": true,
    "scrolled": false
   },
   "outputs": [
    {
     "data": {
      "image/svg+xml": [
       "<svg viewbox=\"0 0 2000.0 400.0\">\n",
       "    <g>\n",
       "        <defs>\n",
       "            <pattern id=\"smallGrid\" width=\"20\" height=\"20\" patternUnits=\"userSpaceOnUse\">\n",
       "                <path id=\"minorSquare\" d=\"M 20 0 L 0 0 0 20\" fill=\"none\" stroke=\"gray\" stroke-width=\"3\"/>\n",
       "            </pattern>\n",
       "            <pattern id=\"grid\" width=\"200\" height=\"200\" patternUnits=\"userSpaceOnUse\">\n",
       "                <rect width=\"200\" height=\"200\" fill=\"url(#smallGrid)\"/>\n",
       "                <path id=\"majorSquare\" d=\"M 200 0 L 0 0 0 200\" fill=\"none\" stroke=\"blue\" stroke-width=\"3\"/>\n",
       "            </pattern>\n",
       "        </defs>\n",
       "        <rect x=\"0\" y=\"0\" width=\"2000.0\" height=\"2000.0\" fill=\"url(#grid)\"/>\n",
       "    </g><path fill-rule=\"evenodd\" fill=\"#ff0\" stroke=\"#555555\" stroke-width=\"2.0\" opacity=\"0.6\" d=\"M 1480.0,212.5 L 1680.0,380.0 L 1980.0,380.0 L 1980.0,20.0 L 1680.0,20.0 L 1480.0,187.5 L 1480.0,192.5 L 1680.0,80.0 L 1920.0,80.0 L 1920.0,320.0 L 1680.0,320.0 L 1480.0,207.5 L 1480.0,212.5 z\"/><path fill-rule=\"evenodd\" fill=\"#f0f\" stroke=\"#555555\" stroke-width=\"2.0\" opacity=\"0.6\" d=\"M 520.0,187.5 L 320.0,20.0 L 20.0,20.0 L 20.0,380.0 L 320.0,380.0 L 520.0,212.5 L 520.0,207.5 L 320.0,320.0 L 80.0,320.0 L 80.0,80.0 L 320.0,80.0 L 520.0,192.5 L 520.0,187.5 z\"/><polyline fill=\"#0ff\" stroke=\"#66cc99\" stroke-width=\"2.0\" points=\"520.0,210.0 1480.0,210.0\" opacity=\"0.8\"/><polyline fill=\"#0f0\" stroke=\"#66cc99\" stroke-width=\"2.0\" points=\"1480.0,190.0 520.0,190.0\" opacity=\"0.8\"/></svg>"
      ],
      "text/plain": [
       "<IPython.core.display.SVG object>"
      ]
     },
     "metadata": {},
     "output_type": "display_data"
    }
   ],
   "source": [
    "disp.display_svg([\n",
    "    disp.generate_svg_grid(0,0,WF,WF,20,200,dattrib={\"stroke-width\":\"3\"},Dattrib={\"stroke-width\":\"3\"}),\n",
    "    disp.nice_svg( launchL, attribs={'fill':'#ff0'} ),\n",
    "    disp.nice_svg( launchR, attribs={'fill':'#f0f'} ),\n",
    "    disp.nice_svg( feed_lineL, attribs={'fill':'#0ff'} ),\n",
    "    disp.nice_svg( feed_lineR, attribs={'fill':'#0f0'} ),\n",
    "], (0,0,WF,WF/5)\n",
    ")"
   ]
  },
  {
   "cell_type": "markdown",
   "metadata": {},
   "source": [
    "### Resonator and meander\n",
    "Define the hanger (the part that is coupled to the feedline), the meander that hosts most of the length of the resonator, and the connecting bits and pieces"
   ]
  },
  {
   "cell_type": "code",
   "execution_count": 7,
   "metadata": {
    "ExecuteTime": {
     "end_time": "2020-09-07T10:51:41.193823Z",
     "start_time": "2020-09-07T10:51:41.152153Z"
    }
   },
   "outputs": [
    {
     "name": "stdout",
     "output_type": "stream",
     "text": [
      "\n",
      "    Length difference: 1.34115um\n",
      "    Total length: 8203.61um\n",
      "    \n"
     ]
    }
   ],
   "source": [
    "# the hanger is the part capacitively coupled to the feedline\n",
    "hanger_start = (lw+margin+hanger_offset, lh/2+margin+s+w*2+coupling_dist)\n",
    "hanger_end = (lw+margin+hanger_offset+hanger_length, lh/2+margin+s+w*2+coupling_dist)\n",
    "hanger_line = LineString( ( hanger_start, hanger_end ) )\n",
    "hanger_endcap = shp.box(aff.translate(Point(hanger_end),hanger_endgap/2,0), hanger_endgap, s+2*w)\n",
    "\n",
    "# bits and pieces connecting hanger to meander\n",
    "connectors = []\n",
    "connectors.append( shp.circle_segment(\n",
    "    aff.translate(Point(hanger_start),0,meander_r),\n",
    "    meander_r, np.pi, np.pi*1.5, d = int(circle_polys/4)\n",
    ") )\n",
    "\n",
    "l = launchL.bounds[3] - connectors[-1].bounds[3]\n",
    "connectors.append( LineString([\n",
    "    connectors[-1].coords[-1],\n",
    "    aff.translate( Point(connectors[-1].coords[-1]), 0, l ),\n",
    "]) )\n",
    "\n",
    "connectors.append( shp.circle_segment(\n",
    "    aff.translate( Point(connectors[-1].coords[-1]), -meander_r, 0 ),\n",
    "    meander_r, np.pi/2, 0, d = int(circle_polys/4)\n",
    ") )\n",
    "\n",
    "connectors.append( LineString([\n",
    "    connectors[-1].coords[-1],\n",
    "    [margin+launcher_gap+meander_r, connectors[-1].coords[-1][1]]\n",
    "]))\n",
    "\n",
    "connectors.append( shp.circle_segment(\n",
    "    aff.translate( Point(connectors[-1].coords[-1]), 0, meander_r ),\n",
    "    meander_r, np.pi, np.pi*1.5, d = int(circle_polys/4)\n",
    "))\n",
    "\n",
    "connectors.append( LineString([\n",
    "    Point(connectors[-1].coords[-1]),\n",
    "    aff.translate( Point(connectors[-1].coords[-1]), 0, meander_r ),\n",
    "]) )\n",
    "\n",
    "connector_line = sp.ops.linemerge( connectors )\n",
    "\n",
    "# meander\n",
    "l = WF-margin-2*(s+w)-meander_r-connectors[-1].bounds[3] #max length of straight pieces\n",
    "l_res = L - sp.ops.linemerge([hanger_line,connector_line]).length #length of resonator so far\n",
    "n = int( np.ceil( l_res/(l+np.pi*meander_r) ) ) #number of straight pieces\n",
    "meander_line = shp.basic_meander_line( l, meander_r, n, d = int(circle_polys/2) )\n",
    "meander_line = aff.affine_transform( meander_line, [0,1,1,0]+list(connectors[-1].coords[-1]) ) #flip, and move to end of connector\n",
    "resonator_line = sp.ops.linemerge( [hanger_line, connector_line, meander_line] )\n",
    "\n",
    "# shorten the last straight piece, to acheve desired length\n",
    "diff = resonator_line.length - L + meander_r*np.pi/2+w+s #lengt we have to cut back\n",
    "meander_line_end = aff.translate( Point(meander_line.coords[-1]), 0, -diff ) #new endpoint\n",
    "meander_line = LineString( meander_line.coords[:-1]+[meander_line_end] )\n",
    "resonator_line = sp.ops.linemerge( [hanger_line, connector_line, meander_line] )\n",
    "\n",
    "# generate inlauncher connector\n",
    "inlauncher_connector = shp.circle_segment(\n",
    "    aff.translate( Point( meander_line.coords[-1] ), meander_r, 0 ),\n",
    "    meander_r, -np.pi/2, 0, decimals=15, d=int(circle_polys/4)\n",
    ")\n",
    "inlauncher_straight = LineString([\n",
    "    inlauncher_connector.coords[-1],\n",
    "    aff.translate( Point( inlauncher_connector.coords[-1] ), w+s, 0 )\n",
    "])\n",
    "resonator_line = sp.ops.linemerge( [resonator_line, inlauncher_connector, inlauncher_straight] )\n",
    "\n",
    "resonatorL, resonatorR, resonator_lineL, resonator_lineR = shp.line_to_cpwg( resonator_line, s, w )\n",
    "\n",
    "# actual inlauncher\n",
    "inlauncher_template = Polygon([\n",
    "    [0,-w/2],\n",
    "    [0,w/2],\n",
    "    [inlauncher_length,inlauncher_gap+inlauncher_width/2-s/2-w/2],\n",
    "    [inlauncher_length,inlauncher_width/2-s/2-w/2]\n",
    "])\n",
    "inlauncherL = aff.translate( inlauncher_template ,*resonator_lineL.coords[-1] )\n",
    "inlauncherR = aff.affine_transform( inlauncher_template,[1,0,0,-1]+list(resonator_lineR.coords[0]) )\n",
    "\n",
    "print( f\"\"\"\n",
    "    Length difference: {L-resonator_line.length:.5f}um\n",
    "    Total length: {resonator_line.length:.2f}um\n",
    "    \"\"\")"
   ]
  },
  {
   "cell_type": "code",
   "execution_count": 8,
   "metadata": {
    "ExecuteTime": {
     "end_time": "2020-09-07T10:51:41.565052Z",
     "start_time": "2020-09-07T10:51:41.549825Z"
    }
   },
   "outputs": [
    {
     "data": {
      "image/svg+xml": [
       "<svg viewbox=\"0 0 2000.0 2000.0\">\n",
       "    <g>\n",
       "        <defs>\n",
       "            <pattern id=\"smallGrid\" width=\"20\" height=\"20\" patternUnits=\"userSpaceOnUse\">\n",
       "                <path id=\"minorSquare\" d=\"M 20 0 L 0 0 0 20\" fill=\"none\" stroke=\"gray\" stroke-width=\"3\"/>\n",
       "            </pattern>\n",
       "            <pattern id=\"grid\" width=\"200\" height=\"200\" patternUnits=\"userSpaceOnUse\">\n",
       "                <rect width=\"200\" height=\"200\" fill=\"url(#smallGrid)\"/>\n",
       "                <path id=\"majorSquare\" d=\"M 200 0 L 0 0 0 200\" fill=\"none\" stroke=\"blue\" stroke-width=\"3\"/>\n",
       "            </pattern>\n",
       "        </defs>\n",
       "        <rect x=\"0\" y=\"0\" width=\"2000.0\" height=\"2000.0\" fill=\"url(#grid)\"/>\n",
       "    </g><path fill-rule=\"evenodd\" fill=\"#ff0\" stroke=\"#555555\" stroke-width=\"2.0\" opacity=\"0.6\" d=\"M 1480.0,212.5 L 1680.0,380.0 L 1980.0,380.0 L 1980.0,20.0 L 1680.0,20.0 L 1480.0,187.5 L 1480.0,192.5 L 1680.0,80.0 L 1920.0,80.0 L 1920.0,320.0 L 1680.0,320.0 L 1480.0,207.5 L 1480.0,212.5 z\"/><path fill-rule=\"evenodd\" fill=\"#f0f\" stroke=\"#555555\" stroke-width=\"2.0\" opacity=\"0.6\" d=\"M 520.0,187.5 L 320.0,20.0 L 20.0,20.0 L 20.0,380.0 L 320.0,380.0 L 520.0,212.5 L 520.0,207.5 L 320.0,320.0 L 80.0,320.0 L 80.0,80.0 L 320.0,80.0 L 520.0,192.5 L 520.0,187.5 z\"/><polyline fill=\"none\" stroke=\"#66cc99\" stroke-width=\"5.0\" points=\"520.0,210.0 1480.0,210.0\" opacity=\"0.8\"/><polyline fill=\"none\" stroke=\"#66cc99\" stroke-width=\"5.0\" points=\"1480.0,190.0 520.0,190.0\" opacity=\"0.8\"/><path fill-rule=\"evenodd\" fill=\"#66cc99\" stroke=\"#555555\" stroke-width=\"0\" opacity=\"0.6\" d=\"M 1030.0,215.5 L 1030.0,240.5 L 1053.0,240.5 L 1053.0,215.5 L 1030.0,215.5 z\"/><polyline fill=\"none\" stroke=\"#66cc99\" stroke-width=\"5.0\" points=\"775.0,1536.1522107779333 756.3165249758742,1536.1522107779333 722.6763809020504,1527.1383613400853 699.0138494378476,1503.475829875883 690.0,1469.8356858020593 690.0,603.8732713121319 681.8140600538371,568.0083018209053 658.1569795602289,538.343262097662 623.9715040918933,521.88041 586.028495908107,521.88041 551.843020439771,538.3432620976622 528.1859399461629,568.0083018209052 520.0,603.8732713121319 520.0,1863.873271312132 513.3312799461629,1893.0908618209053 495.366500439771,1915.617982097662 469.40663590810675,1928.11959 440.59336409189325,1928.11959 414.633499560229,1915.617982097662 396.66872005383703,1893.090861820905 390.0,1863.8732713121321 390.0,603.8732713121321 381.81406005383707,568.0083018209053 358.15697956022876,538.3432620976619 323.9715040918933,521.88041 286.0284959081067,521.88041 251.84302043977112,538.343262097662 228.18593994616296,568.0083018209053 220.0,603.8732713121321 220.0,1863.8732713121321 213.33127994616297,1893.090861820905 195.366500439771,1915.617982097662 169.40663590810675,1928.11959 140.59336409189325,1928.11959 114.633499560229,1915.617982097662 96.66872005383703,1893.090861820905 90.0,1863.8732713121321 90.0,531.3165243790058 99.01384516632504,497.6763804574059 122.67638045740591,474.01384516632504 156.3165243790058,465.0 461.3165243790058,465.0 502.6763804574059,453.91766516632504 533.9176651663252,422.6763804574057 545.0,381.31652437900607 545.0,304.31652437900607 554.0138451663252,270.6763804574058 577.6763804574058,247.01384516632515 611.3165243790058,238.0 1030.0,238.0\" opacity=\"0.8\"/><polyline fill=\"none\" stroke=\"#66cc99\" stroke-width=\"5.0\" points=\"1030.0,218.0 608.6834756209942,218.0 567.3236195425942,229.0823348336749 536.0823348336748,260.3236195425942 525.0,301.683475620994 525.0,378.683475620994 515.9861548336748,412.3236195425942 492.3236195425941,435.98615483367496 458.68347562099416,445.0 153.68347562099416,445.0 112.32361954259409,456.08233483367496 81.08233483367496,487.3236195425941 70.0,528.6834756209942 70.0,1866.1267286878679 78.18593994616299,1901.9916981790948 101.84302043977095,1931.656737902338 136.02849590810672,1948.11959 173.97150409189328,1948.11959 208.15697956022905,1931.656737902338 231.814060053837,1901.9916981790948 240.0,1866.1267286878679 240.0,606.1267286878679 246.6687200538371,576.9091381790946 264.63349956022876,554.3820179023381 290.59336409189325,541.88041 319.40663590810675,541.88041 345.36650043977124,554.3820179023382 363.331279946163,576.9091381790946 370.0,606.1267286878679 370.0,1866.1267286878679 378.185939946163,1901.9916981790948 401.84302043977107,1931.656737902338 436.0284959081067,1948.11959 473.9715040918933,1948.11959 508.15697956022893,1931.656737902338 531.8140600538371,1901.9916981790948 540.0,1866.126728687868 540.0,606.1267286878681 546.6687200538371,576.9091381790947 564.6334995602292,554.3820179023379 590.593364091893,541.88041 619.4066359081068,541.88041 645.3665004397711,554.3820179023381 663.3312799461629,576.9091381790946 670.0,606.1267286878681 670.0,1472.4687357538073 681.0823399944865,1513.8285916799837 712.3236190979496,1545.0698707834467 753.6834750241258,1556.1522107779333 775.0,1556.1522107779333\" opacity=\"0.8\"/><path fill-rule=\"evenodd\" fill=\"#66cc99\" stroke=\"#555555\" stroke-width=\"0\" opacity=\"0.6\" d=\"M 775.0,1538.6522107779333 L 775.0,1533.6522107779333 L 875.0,1381.1522107779333 L 875.0,1481.1522107779333 L 775.0,1538.6522107779333 z\"/><path fill-rule=\"evenodd\" fill=\"#f0f\" stroke=\"#555555\" stroke-width=\"2.0\" opacity=\"0.6\" d=\"M 775.0,1553.6522107779333 L 775.0,1558.6522107779333 L 875.0,1711.1522107779333 L 875.0,1611.1522107779333 L 775.0,1553.6522107779333 z\"/></svg>"
      ],
      "text/plain": [
       "<IPython.core.display.SVG object>"
      ]
     },
     "metadata": {},
     "output_type": "display_data"
    }
   ],
   "source": [
    "disp.display_svg([\n",
    "    disp.generate_svg_grid(0,0,WF,WF,20,200,dattrib={\"stroke-width\":\"3\"},Dattrib={\"stroke-width\":\"3\"}),\n",
    "    \n",
    "    disp.nice_svg( launchL, attribs={'fill':'#ff0'} ),\n",
    "    disp.nice_svg( launchR, attribs={'fill':'#f0f'} ),\n",
    "    disp.nice_svg( feed_lineL, attribs={'stroke-width':str(w)} ),\n",
    "    disp.nice_svg( feed_lineR, attribs={'stroke-width':str(w)} ),\n",
    "    disp.nice_svg( hanger_endcap ),\n",
    "    \n",
    "    disp.nice_svg( resonator_lineR, attribs={'stroke-width':str(w)} ),\n",
    "    disp.nice_svg( resonator_lineL, attribs={'stroke-width':str(w)} ),\n",
    "    disp.nice_svg( inlauncherR ),\n",
    "    disp.nice_svg( inlauncherL, attribs={'fill':'#f0f'} ),\n",
    "    \n",
    "], (0,0,WF,WF)\n",
    ")"
   ]
  },
  {
   "cell_type": "markdown",
   "metadata": {
    "ExecuteTime": {
     "end_time": "2020-08-03T09:28:01.831576Z",
     "start_time": "2020-08-03T09:28:01.815889Z"
    }
   },
   "source": [
    "### Sample space\n",
    "Generating the empty space that will house the sample. It's a simple rectangle, future vers might include markers."
   ]
  },
  {
   "cell_type": "code",
   "execution_count": 9,
   "metadata": {
    "ExecuteTime": {
     "end_time": "2020-09-07T10:51:42.408818Z",
     "start_time": "2020-09-07T10:51:42.401157Z"
    }
   },
   "outputs": [],
   "source": [
    "samplespace_center = aff.translate( Point(inlauncherL.bounds[2:]), inlauncher_leggap+samplespaceA/2, -samplespaceB/2 )\n",
    "samplespace = shp.box( samplespace_center, samplespaceA, samplespaceB )"
   ]
  },
  {
   "cell_type": "code",
   "execution_count": 10,
   "metadata": {
    "ExecuteTime": {
     "end_time": "2020-09-07T10:51:42.843078Z",
     "start_time": "2020-09-07T10:51:42.820871Z"
    }
   },
   "outputs": [
    {
     "data": {
      "image/svg+xml": [
       "<svg viewbox=\"0 0 2000.0 2000.0\">\n",
       "    <g>\n",
       "        <defs>\n",
       "            <pattern id=\"smallGrid\" width=\"20\" height=\"20\" patternUnits=\"userSpaceOnUse\">\n",
       "                <path id=\"minorSquare\" d=\"M 20 0 L 0 0 0 20\" fill=\"none\" stroke=\"gray\" stroke-width=\"3\"/>\n",
       "            </pattern>\n",
       "            <pattern id=\"grid\" width=\"200\" height=\"200\" patternUnits=\"userSpaceOnUse\">\n",
       "                <rect width=\"200\" height=\"200\" fill=\"url(#smallGrid)\"/>\n",
       "                <path id=\"majorSquare\" d=\"M 200 0 L 0 0 0 200\" fill=\"none\" stroke=\"blue\" stroke-width=\"3\"/>\n",
       "            </pattern>\n",
       "        </defs>\n",
       "        <rect x=\"0\" y=\"0\" width=\"2000.0\" height=\"2000.0\" fill=\"url(#grid)\"/>\n",
       "    </g><path fill-rule=\"evenodd\" fill=\"#ff0\" stroke=\"#555555\" stroke-width=\"2.0\" opacity=\"0.6\" d=\"M 1480.0,212.5 L 1680.0,380.0 L 1980.0,380.0 L 1980.0,20.0 L 1680.0,20.0 L 1480.0,187.5 L 1480.0,192.5 L 1680.0,80.0 L 1920.0,80.0 L 1920.0,320.0 L 1680.0,320.0 L 1480.0,207.5 L 1480.0,212.5 z\"/><path fill-rule=\"evenodd\" fill=\"#f0f\" stroke=\"#555555\" stroke-width=\"2.0\" opacity=\"0.6\" d=\"M 520.0,187.5 L 320.0,20.0 L 20.0,20.0 L 20.0,380.0 L 320.0,380.0 L 520.0,212.5 L 520.0,207.5 L 320.0,320.0 L 80.0,320.0 L 80.0,80.0 L 320.0,80.0 L 520.0,192.5 L 520.0,187.5 z\"/><polyline fill=\"none\" stroke=\"#66cc99\" stroke-width=\"5.0\" points=\"520.0,210.0 1480.0,210.0\" opacity=\"0.8\"/><polyline fill=\"none\" stroke=\"#66cc99\" stroke-width=\"5.0\" points=\"1480.0,190.0 520.0,190.0\" opacity=\"0.8\"/><path fill-rule=\"evenodd\" fill=\"#66cc99\" stroke=\"#555555\" stroke-width=\"0\" opacity=\"0.6\" d=\"M 1030.0,215.5 L 1030.0,240.5 L 1053.0,240.5 L 1053.0,215.5 L 1030.0,215.5 z\"/><polyline fill=\"none\" stroke=\"#66cc99\" stroke-width=\"5.0\" points=\"775.0,1536.1522107779333 756.3165249758742,1536.1522107779333 722.6763809020504,1527.1383613400853 699.0138494378476,1503.475829875883 690.0,1469.8356858020593 690.0,603.8732713121319 681.8140600538371,568.0083018209053 658.1569795602289,538.343262097662 623.9715040918933,521.88041 586.028495908107,521.88041 551.843020439771,538.3432620976622 528.1859399461629,568.0083018209052 520.0,603.8732713121319 520.0,1863.873271312132 513.3312799461629,1893.0908618209053 495.366500439771,1915.617982097662 469.40663590810675,1928.11959 440.59336409189325,1928.11959 414.633499560229,1915.617982097662 396.66872005383703,1893.090861820905 390.0,1863.8732713121321 390.0,603.8732713121321 381.81406005383707,568.0083018209053 358.15697956022876,538.3432620976619 323.9715040918933,521.88041 286.0284959081067,521.88041 251.84302043977112,538.343262097662 228.18593994616296,568.0083018209053 220.0,603.8732713121321 220.0,1863.8732713121321 213.33127994616297,1893.090861820905 195.366500439771,1915.617982097662 169.40663590810675,1928.11959 140.59336409189325,1928.11959 114.633499560229,1915.617982097662 96.66872005383703,1893.090861820905 90.0,1863.8732713121321 90.0,531.3165243790058 99.01384516632504,497.6763804574059 122.67638045740591,474.01384516632504 156.3165243790058,465.0 461.3165243790058,465.0 502.6763804574059,453.91766516632504 533.9176651663252,422.6763804574057 545.0,381.31652437900607 545.0,304.31652437900607 554.0138451663252,270.6763804574058 577.6763804574058,247.01384516632515 611.3165243790058,238.0 1030.0,238.0\" opacity=\"0.8\"/><polyline fill=\"none\" stroke=\"#66cc99\" stroke-width=\"5.0\" points=\"1030.0,218.0 608.6834756209942,218.0 567.3236195425942,229.0823348336749 536.0823348336748,260.3236195425942 525.0,301.683475620994 525.0,378.683475620994 515.9861548336748,412.3236195425942 492.3236195425941,435.98615483367496 458.68347562099416,445.0 153.68347562099416,445.0 112.32361954259409,456.08233483367496 81.08233483367496,487.3236195425941 70.0,528.6834756209942 70.0,1866.1267286878679 78.18593994616299,1901.9916981790948 101.84302043977095,1931.656737902338 136.02849590810672,1948.11959 173.97150409189328,1948.11959 208.15697956022905,1931.656737902338 231.814060053837,1901.9916981790948 240.0,1866.1267286878679 240.0,606.1267286878679 246.6687200538371,576.9091381790946 264.63349956022876,554.3820179023381 290.59336409189325,541.88041 319.40663590810675,541.88041 345.36650043977124,554.3820179023382 363.331279946163,576.9091381790946 370.0,606.1267286878679 370.0,1866.1267286878679 378.185939946163,1901.9916981790948 401.84302043977107,1931.656737902338 436.0284959081067,1948.11959 473.9715040918933,1948.11959 508.15697956022893,1931.656737902338 531.8140600538371,1901.9916981790948 540.0,1866.126728687868 540.0,606.1267286878681 546.6687200538371,576.9091381790947 564.6334995602292,554.3820179023379 590.593364091893,541.88041 619.4066359081068,541.88041 645.3665004397711,554.3820179023381 663.3312799461629,576.9091381790946 670.0,606.1267286878681 670.0,1472.4687357538073 681.0823399944865,1513.8285916799837 712.3236190979496,1545.0698707834467 753.6834750241258,1556.1522107779333 775.0,1556.1522107779333\" opacity=\"0.8\"/><path fill-rule=\"evenodd\" fill=\"#66cc99\" stroke=\"#555555\" stroke-width=\"0\" opacity=\"0.6\" d=\"M 775.0,1538.6522107779333 L 775.0,1533.6522107779333 L 875.0,1381.1522107779333 L 875.0,1481.1522107779333 L 775.0,1538.6522107779333 z\"/><path fill-rule=\"evenodd\" fill=\"#f0f\" stroke=\"#555555\" stroke-width=\"2.0\" opacity=\"0.6\" d=\"M 775.0,1553.6522107779333 L 775.0,1558.6522107779333 L 875.0,1711.1522107779333 L 875.0,1611.1522107779333 L 775.0,1553.6522107779333 z\"/><path fill-rule=\"evenodd\" fill=\"#66cc99\" stroke=\"#555555\" stroke-width=\"0\" opacity=\"0.6\" d=\"M 878.0,1111.1522107779333 L 878.0,1711.1522107779333 L 1178.0,1711.1522107779333 L 1178.0,1111.1522107779333 L 878.0,1111.1522107779333 z\"/></svg>"
      ],
      "text/plain": [
       "<IPython.core.display.SVG object>"
      ]
     },
     "metadata": {},
     "output_type": "display_data"
    }
   ],
   "source": [
    "disp.display_svg([\n",
    "    disp.generate_svg_grid(0,0,WF,WF,20,200,dattrib={\"stroke-width\":\"3\"},Dattrib={\"stroke-width\":\"3\"}),\n",
    "    \n",
    "    disp.nice_svg( launchL, attribs={'fill':'#ff0'} ),\n",
    "    disp.nice_svg( launchR, attribs={'fill':'#f0f'} ),\n",
    "    disp.nice_svg( feed_lineL, attribs={'stroke-width':str(w)} ),\n",
    "    disp.nice_svg( feed_lineR, attribs={'stroke-width':str(w)} ),\n",
    "    \n",
    "    disp.nice_svg( hanger_endcap ),\n",
    "    disp.nice_svg( resonator_lineR, attribs={'stroke-width':str(w)} ),\n",
    "    disp.nice_svg( resonator_lineL, attribs={'stroke-width':str(w)} ),\n",
    "    disp.nice_svg( inlauncherR ),\n",
    "    disp.nice_svg( inlauncherL, attribs={'fill':'#f0f'} ),\n",
    "    \n",
    "    disp.nice_svg( samplespace ),\n",
    "    \n",
    "], (0,0,WF,WF)\n",
    ")"
   ]
  },
  {
   "cell_type": "markdown",
   "metadata": {},
   "source": [
    "### Gates, and fluxlines\n",
    "Generates launcher for all 4 lines along one side. Gate lines are connected to the sample space. Flux lines terminate before reaching the sample space. The current flowing through the pieces of groundplane between the fluxine and the samplespace generate the fluxes for tuning SQUIDS."
   ]
  },
  {
   "cell_type": "code",
   "execution_count": 11,
   "metadata": {
    "ExecuteTime": {
     "end_time": "2020-09-07T10:51:43.756912Z",
     "start_time": "2020-09-07T10:51:43.724773Z"
    }
   },
   "outputs": [],
   "source": [
    "#launchers along the edge\n",
    "gate_launchers = [ aff.translate( launchL, 0, (lh+margin*2)*i) for i in range(1,5) ]\n",
    "launcher_start =[ [l.bounds[0],l.bounds[1]/2+l.bounds[3]/2] for l in gate_launchers ]\n",
    "\n",
    "#first flux line\n",
    "flux1_line = [LineString([\n",
    "    launcher_start[0],\n",
    "    [samplespace.bounds[0]-3*inlauncher_leggap, launcher_start[0][1]],\n",
    "])]\n",
    "flux1_line.append(shp.circle_segment(\n",
    "    aff.translate( Point(flux1_line[-1].coords[-1]), 0, meander_r ),\n",
    "    meander_r, np.pi, np.pi*1.5, d = int(circle_polys/4)\n",
    "))\n",
    "flux1_line.append(LineString([\n",
    "    flux1_line[-1].coords[-1],\n",
    "    [flux1_line[-1].coords[-1][0], samplespace.bounds[1]+samplespaceB-inlauncher_gap*2-inlauncher_width-2*meander_r],\n",
    "]))\n",
    "flux1_line.append(shp.circle_segment(\n",
    "    aff.translate( Point(flux1_line[-1].coords[-1]), meander_r, 0 ),\n",
    "    meander_r, -np.pi*.5, 0, decimals=14, d=int(circle_polys/4)\n",
    "))\n",
    "flux1_line.append(LineString([\n",
    "    flux1_line[-1].coords[-1],\n",
    "    aff.translate( Point(flux1_line[-1].coords[-1]), inlauncher_leggap*2, 0 )\n",
    "]))\n",
    "flux1_line = sp.ops.linemerge( flux1_line )\n",
    "_,_, flux1R, flux1L = shp.line_to_cpwg( flux1_line, s, w )\n",
    "#cut one side, extend the other\n",
    "mid = aff.translate( Point(flux1_line.coords[-1]), -w/2, (s/2+w)+fluxline_extender/2 )\n",
    "flux1R_extend = shp.box( mid, w, fluxline_extender )\n",
    "mid = aff.translate( Point(flux1_line.coords[-1]), inlauncher_leggap/2, -(s+w)/2 )\n",
    "flux1L_endcap = shp.box( mid, inlauncher_leggap, w )\n",
    "\n",
    "#second flux line\n",
    "flux2_line = LineString([\n",
    "    launcher_start[2],\n",
    "    [samplespace.bounds[2]+inlauncher_leggap,launcher_start[2][1]]\n",
    "])\n",
    "_,_, flux2R, flux2L = shp.line_to_cpwg( flux2_line, s, w )\n",
    "#cut one side, extend the other\n",
    "mid = aff.translate( Point(flux2_line.coords[-1]), w/2, (s/2+w)+fluxline_extender/2 )\n",
    "flux2L_extend = shp.box( mid, w, fluxline_extender )\n",
    "mid = aff.translate( Point(flux2_line.coords[-1]), -inlauncher_leggap/2, -(s+w)/2 )\n",
    "flux2R_endcap = shp.box( mid, inlauncher_leggap, w )\n",
    "\n",
    "#first gate line\n",
    "gate1_line = LineString([\n",
    "    launcher_start[1],\n",
    "    [samplespace_center.x,launcher_start[1][1]],\n",
    "    [samplespace_center.x,samplespace.bounds[1]],\n",
    "])\n",
    "_,_, gate1R, gate1L = shp.line_to_cpwg( gate1_line, s, w )\n",
    "\n",
    "#second gate line\n",
    "gate2_line = LineString([\n",
    "    launcher_start[3],\n",
    "    [samplespace_center.x,launcher_start[3][1]],\n",
    "    [samplespace_center.x,samplespace.bounds[3]],\n",
    "])\n",
    "_,_, gate2R, gate2L = shp.line_to_cpwg( gate2_line, s, w )"
   ]
  },
  {
   "cell_type": "code",
   "execution_count": 12,
   "metadata": {
    "ExecuteTime": {
     "end_time": "2020-09-07T10:51:44.450776Z",
     "start_time": "2020-09-07T10:51:44.391821Z"
    }
   },
   "outputs": [
    {
     "data": {
      "image/svg+xml": [
       "<svg viewbox=\"0 0 2000.0 2000.0\">\n",
       "    <g>\n",
       "        <defs>\n",
       "            <pattern id=\"smallGrid\" width=\"20\" height=\"20\" patternUnits=\"userSpaceOnUse\">\n",
       "                <path id=\"minorSquare\" d=\"M 20 0 L 0 0 0 20\" fill=\"none\" stroke=\"gray\" stroke-width=\"3\"/>\n",
       "            </pattern>\n",
       "            <pattern id=\"grid\" width=\"200\" height=\"200\" patternUnits=\"userSpaceOnUse\">\n",
       "                <rect width=\"200\" height=\"200\" fill=\"url(#smallGrid)\"/>\n",
       "                <path id=\"majorSquare\" d=\"M 200 0 L 0 0 0 200\" fill=\"none\" stroke=\"blue\" stroke-width=\"3\"/>\n",
       "            </pattern>\n",
       "        </defs>\n",
       "        <rect x=\"0\" y=\"0\" width=\"2000.0\" height=\"2000.0\" fill=\"url(#grid)\"/>\n",
       "    </g><path fill-rule=\"evenodd\" fill=\"#ff0\" stroke=\"#555555\" stroke-width=\"2.0\" opacity=\"0.6\" d=\"M 1480.0,212.5 L 1680.0,380.0 L 1980.0,380.0 L 1980.0,20.0 L 1680.0,20.0 L 1480.0,187.5 L 1480.0,192.5 L 1680.0,80.0 L 1920.0,80.0 L 1920.0,320.0 L 1680.0,320.0 L 1480.0,207.5 L 1480.0,212.5 z\"/><path fill-rule=\"evenodd\" fill=\"#f0f\" stroke=\"#555555\" stroke-width=\"2.0\" opacity=\"0.6\" d=\"M 520.0,187.5 L 320.0,20.0 L 20.0,20.0 L 20.0,380.0 L 320.0,380.0 L 520.0,212.5 L 520.0,207.5 L 320.0,320.0 L 80.0,320.0 L 80.0,80.0 L 320.0,80.0 L 520.0,192.5 L 520.0,187.5 z\"/><polyline fill=\"none\" stroke=\"#66cc99\" stroke-width=\"5.0\" points=\"520.0,210.0 1480.0,210.0\" opacity=\"0.8\"/><polyline fill=\"none\" stroke=\"#66cc99\" stroke-width=\"5.0\" points=\"1480.0,190.0 520.0,190.0\" opacity=\"0.8\"/><path fill-rule=\"evenodd\" fill=\"#66cc99\" stroke=\"#555555\" stroke-width=\"0\" opacity=\"0.6\" d=\"M 1030.0,215.5 L 1030.0,240.5 L 1053.0,240.5 L 1053.0,215.5 L 1030.0,215.5 z\"/><polyline fill=\"none\" stroke=\"#66cc99\" stroke-width=\"5.0\" points=\"775.0,1536.1522107779333 756.3165249758742,1536.1522107779333 722.6763809020504,1527.1383613400853 699.0138494378476,1503.475829875883 690.0,1469.8356858020593 690.0,603.8732713121319 681.8140600538371,568.0083018209053 658.1569795602289,538.343262097662 623.9715040918933,521.88041 586.028495908107,521.88041 551.843020439771,538.3432620976622 528.1859399461629,568.0083018209052 520.0,603.8732713121319 520.0,1863.873271312132 513.3312799461629,1893.0908618209053 495.366500439771,1915.617982097662 469.40663590810675,1928.11959 440.59336409189325,1928.11959 414.633499560229,1915.617982097662 396.66872005383703,1893.090861820905 390.0,1863.8732713121321 390.0,603.8732713121321 381.81406005383707,568.0083018209053 358.15697956022876,538.3432620976619 323.9715040918933,521.88041 286.0284959081067,521.88041 251.84302043977112,538.343262097662 228.18593994616296,568.0083018209053 220.0,603.8732713121321 220.0,1863.8732713121321 213.33127994616297,1893.090861820905 195.366500439771,1915.617982097662 169.40663590810675,1928.11959 140.59336409189325,1928.11959 114.633499560229,1915.617982097662 96.66872005383703,1893.090861820905 90.0,1863.8732713121321 90.0,531.3165243790058 99.01384516632504,497.6763804574059 122.67638045740591,474.01384516632504 156.3165243790058,465.0 461.3165243790058,465.0 502.6763804574059,453.91766516632504 533.9176651663252,422.6763804574057 545.0,381.31652437900607 545.0,304.31652437900607 554.0138451663252,270.6763804574058 577.6763804574058,247.01384516632515 611.3165243790058,238.0 1030.0,238.0\" opacity=\"0.8\"/><polyline fill=\"none\" stroke=\"#66cc99\" stroke-width=\"5.0\" points=\"1030.0,218.0 608.6834756209942,218.0 567.3236195425942,229.0823348336749 536.0823348336748,260.3236195425942 525.0,301.683475620994 525.0,378.683475620994 515.9861548336748,412.3236195425942 492.3236195425941,435.98615483367496 458.68347562099416,445.0 153.68347562099416,445.0 112.32361954259409,456.08233483367496 81.08233483367496,487.3236195425941 70.0,528.6834756209942 70.0,1866.1267286878679 78.18593994616299,1901.9916981790948 101.84302043977095,1931.656737902338 136.02849590810672,1948.11959 173.97150409189328,1948.11959 208.15697956022905,1931.656737902338 231.814060053837,1901.9916981790948 240.0,1866.1267286878679 240.0,606.1267286878679 246.6687200538371,576.9091381790946 264.63349956022876,554.3820179023381 290.59336409189325,541.88041 319.40663590810675,541.88041 345.36650043977124,554.3820179023382 363.331279946163,576.9091381790946 370.0,606.1267286878679 370.0,1866.1267286878679 378.185939946163,1901.9916981790948 401.84302043977107,1931.656737902338 436.0284959081067,1948.11959 473.9715040918933,1948.11959 508.15697956022893,1931.656737902338 531.8140600538371,1901.9916981790948 540.0,1866.126728687868 540.0,606.1267286878681 546.6687200538371,576.9091381790947 564.6334995602292,554.3820179023379 590.593364091893,541.88041 619.4066359081068,541.88041 645.3665004397711,554.3820179023381 663.3312799461629,576.9091381790946 670.0,606.1267286878681 670.0,1472.4687357538073 681.0823399944865,1513.8285916799837 712.3236190979496,1545.0698707834467 753.6834750241258,1556.1522107779333 775.0,1556.1522107779333\" opacity=\"0.8\"/><path fill-rule=\"evenodd\" fill=\"#66cc99\" stroke=\"#555555\" stroke-width=\"0\" opacity=\"0.6\" d=\"M 775.0,1538.6522107779333 L 775.0,1533.6522107779333 L 875.0,1381.1522107779333 L 875.0,1481.1522107779333 L 775.0,1538.6522107779333 z\"/><path fill-rule=\"evenodd\" fill=\"#f0f\" stroke=\"#555555\" stroke-width=\"2.0\" opacity=\"0.6\" d=\"M 775.0,1553.6522107779333 L 775.0,1558.6522107779333 L 875.0,1711.1522107779333 L 875.0,1611.1522107779333 L 775.0,1553.6522107779333 z\"/><path fill-rule=\"evenodd\" fill=\"#66cc99\" stroke=\"#555555\" stroke-width=\"0\" opacity=\"0.6\" d=\"M 878.0,1111.1522107779333 L 878.0,1711.1522107779333 L 1178.0,1711.1522107779333 L 1178.0,1111.1522107779333 L 878.0,1111.1522107779333 z\"/><path fill-rule=\"evenodd\" fill=\"#66cc99\" stroke=\"#555555\" stroke-width=\"0\" opacity=\"0.6\" d=\"M 1480.0,612.5 L 1680.0,780.0 L 1980.0,780.0 L 1980.0,420.0 L 1680.0,420.0 L 1480.0,587.5 L 1480.0,592.5 L 1680.0,480.0 L 1920.0,480.0 L 1920.0,720.0 L 1680.0,720.0 L 1480.0,607.5 L 1480.0,612.5 z\"/><path fill-rule=\"evenodd\" fill=\"#66cc99\" stroke=\"#555555\" stroke-width=\"0\" opacity=\"0.6\" d=\"M 1480.0,1012.5 L 1680.0,1180.0 L 1980.0,1180.0 L 1980.0,820.0 L 1680.0,820.0 L 1480.0,987.5 L 1480.0,992.5 L 1680.0,880.0 L 1920.0,880.0 L 1920.0,1120.0 L 1680.0,1120.0 L 1480.0,1007.5 L 1480.0,1012.5 z\"/><path fill-rule=\"evenodd\" fill=\"#66cc99\" stroke=\"#555555\" stroke-width=\"0\" opacity=\"0.6\" d=\"M 1480.0,1412.5 L 1680.0,1580.0 L 1980.0,1580.0 L 1980.0,1220.0 L 1680.0,1220.0 L 1480.0,1387.5 L 1480.0,1392.5 L 1680.0,1280.0 L 1920.0,1280.0 L 1920.0,1520.0 L 1680.0,1520.0 L 1480.0,1407.5 L 1480.0,1412.5 z\"/><path fill-rule=\"evenodd\" fill=\"#66cc99\" stroke=\"#555555\" stroke-width=\"0\" opacity=\"0.6\" d=\"M 1480.0,1812.5 L 1680.0,1980.0 L 1980.0,1980.0 L 1980.0,1620.0 L 1680.0,1620.0 L 1480.0,1787.5 L 1480.0,1792.5 L 1680.0,1680.0 L 1920.0,1680.0 L 1920.0,1920.0 L 1680.0,1920.0 L 1480.0,1807.5 L 1480.0,1812.5 z\"/><polyline fill=\"none\" stroke=\"#66cc99\" stroke-width=\"5.0\" points=\"875.0,1296.1522107779333 870.316524975874,1296.1522107779333 836.6763809020505,1287.1383613400858 813.0138494378476,1263.4758298758827 804.0,1229.8356858020593 804.0,676.316524379006 813.0138451663252,642.6763804574057 836.6763804574057,619.0138451663252 870.316524379006,610.0 1480.0,610.0\" opacity=\"0.8\"/><polyline fill=\"none\" stroke=\"#66cc99\" stroke-width=\"5.0\" points=\"1480.0,590.0 867.683475620994,590.0 826.3236195425943,601.0823348336748 795.0823348336748,632.3236195425943 784.0,673.683475620994 784.0,1232.4687357538073 795.0823399944865,1273.828591679984 826.3236190979495,1305.0698707834467 867.683475024126,1316.1522107779333 875.0,1316.1522107779333\" opacity=\"0.8\"/><polyline fill=\"none\" stroke=\"#66cc99\" stroke-width=\"5.0\" points=\"1181.0,1410.0 1480.0,1410.0\" opacity=\"0.8\"/><polyline fill=\"none\" stroke=\"#66cc99\" stroke-width=\"5.0\" points=\"1480.0,1390.0 1181.0,1390.0\" opacity=\"0.8\"/><polyline fill=\"none\" stroke=\"#66cc99\" stroke-width=\"5.0\" points=\"1038.0,1111.1522107779333 1038.0,1010.0 1480.0,1010.0\" opacity=\"0.8\"/><polyline fill=\"none\" stroke=\"#66cc99\" stroke-width=\"5.0\" points=\"1480.0,990.0 1018.0,990.0 1018.0,1111.1522107779333\" opacity=\"0.8\"/><polyline fill=\"none\" stroke=\"#66cc99\" stroke-width=\"5.0\" points=\"1018.0,1711.1522107779333 1018.0,1810.0 1480.0,1810.0\" opacity=\"0.8\"/><polyline fill=\"none\" stroke=\"#66cc99\" stroke-width=\"5.0\" points=\"1480.0,1790.0 1038.0,1790.0 1038.0,1711.1522107779333\" opacity=\"0.8\"/><path fill-rule=\"evenodd\" fill=\"#66cc99\" stroke=\"#555555\" stroke-width=\"0\" opacity=\"0.6\" d=\"M 1178.0,1387.5 L 1178.0,1392.5 L 1181.0,1392.5 L 1181.0,1387.5 L 1178.0,1387.5 z\"/><path fill-rule=\"evenodd\" fill=\"#66cc99\" stroke=\"#555555\" stroke-width=\"0\" opacity=\"0.6\" d=\"M 1181.0,1412.5 L 1181.0,1422.5 L 1186.0,1422.5 L 1186.0,1412.5 L 1181.0,1412.5 z\"/><path fill-rule=\"evenodd\" fill=\"#66cc99\" stroke=\"#555555\" stroke-width=\"0\" opacity=\"0.6\" d=\"M 875.0,1293.6522107779333 L 875.0,1298.6522107779333 L 878.0,1298.6522107779333 L 878.0,1293.6522107779333 L 875.0,1293.6522107779333 z\"/><path fill-rule=\"evenodd\" fill=\"#66cc99\" stroke=\"#555555\" stroke-width=\"0\" opacity=\"0.6\" d=\"M 870.0,1318.6522107779333 L 870.0,1328.6522107779333 L 875.0,1328.6522107779333 L 875.0,1318.6522107779333 L 870.0,1318.6522107779333 z\"/></svg>"
      ],
      "text/plain": [
       "<IPython.core.display.SVG object>"
      ]
     },
     "metadata": {},
     "output_type": "display_data"
    }
   ],
   "source": [
    "disp.display_svg([\n",
    "    disp.generate_svg_grid(0,0,WF,WF,20,200,dattrib={\"stroke-width\":\"3\"},Dattrib={\"stroke-width\":\"3\"}),\n",
    "    \n",
    "    disp.nice_svg( launchL, attribs={'fill':'#ff0'} ),\n",
    "    disp.nice_svg( launchR, attribs={'fill':'#f0f'} ),\n",
    "    disp.nice_svg( feed_lineL, attribs={'stroke-width':str(w)} ),\n",
    "    disp.nice_svg( feed_lineR, attribs={'stroke-width':str(w)} ),\n",
    "    \n",
    "    disp.nice_svg( hanger_endcap ),\n",
    "    disp.nice_svg( resonator_lineR, attribs={'stroke-width':str(w)} ),\n",
    "    disp.nice_svg( resonator_lineL, attribs={'stroke-width':str(w)} ),\n",
    "    disp.nice_svg( inlauncherR ),\n",
    "    disp.nice_svg( inlauncherL, attribs={'fill':'#f0f'} ),\n",
    "    \n",
    "    disp.nice_svg( samplespace ),\n",
    "    \n",
    "    *[disp.nice_svg( l ) for l in gate_launchers ],\n",
    "    \n",
    "    disp.nice_svg( flux1L, attribs={'stroke-width':str(w)} ),\n",
    "    disp.nice_svg( flux1R, attribs={'stroke-width':str(w)} ),\n",
    "    disp.nice_svg( flux2L, attribs={'stroke-width':str(w)} ),\n",
    "    disp.nice_svg( flux2R, attribs={'stroke-width':str(w)} ),\n",
    "    disp.nice_svg( gate1L, attribs={'stroke-width':str(w)} ),\n",
    "    disp.nice_svg( gate1R, attribs={'stroke-width':str(w)} ),\n",
    "    disp.nice_svg( gate2L, attribs={'stroke-width':str(w)} ),\n",
    "    disp.nice_svg( gate2R, attribs={'stroke-width':str(w)} ),\n",
    "    disp.nice_svg( flux2R_endcap ),\n",
    "    disp.nice_svg( flux2L_extend ),\n",
    "    disp.nice_svg( flux1L_endcap ),\n",
    "    disp.nice_svg( flux1R_extend ),\n",
    "    \n",
    "],\n",
    "    #(800,1000,1400,1600)\n",
    "    (0,0,WF,WF)\n",
    ")"
   ]
  },
  {
   "cell_type": "markdown",
   "metadata": {},
   "source": [
    "### Exporting\n",
    "Save as, dxf as well as .gds file, also save a read only version of the notebook generating the .dxf and .gds files."
   ]
  },
  {
   "cell_type": "code",
   "execution_count": 18,
   "metadata": {
    "ExecuteTime": {
     "end_time": "2020-09-07T11:02:46.643415Z",
     "start_time": "2020-09-07T11:02:46.622728Z"
    }
   },
   "outputs": [
    {
     "ename": "FileNotFoundError",
     "evalue": "[Errno 2] No such file or directory: ''",
     "output_type": "error",
     "traceback": [
      "\u001b[0;31m---------------------------------------------------------------------------\u001b[0m",
      "\u001b[0;31mFileNotFoundError\u001b[0m                         Traceback (most recent call last)",
      "\u001b[0;32m<ipython-input-18-7a9b97aea946>\u001b[0m in \u001b[0;36m<module>\u001b[0;34m\u001b[0m\n\u001b[1;32m      6\u001b[0m ]\n\u001b[1;32m      7\u001b[0m \u001b[0;34m\u001b[0m\u001b[0m\n\u001b[0;32m----> 8\u001b[0;31m \u001b[0mgds\u001b[0m\u001b[0;34m.\u001b[0m\u001b[0msave_gds_polys\u001b[0m\u001b[0;34m(\u001b[0m \u001b[0mgdss\u001b[0m\u001b[0;34m,\u001b[0m \u001b[0;34m\"SaclayStyle-2f2gv1.5\"\u001b[0m\u001b[0;34m,\u001b[0m \u001b[0msave_notebook\u001b[0m \u001b[0;34m=\u001b[0m \u001b[0;32mTrue\u001b[0m\u001b[0;34m)\u001b[0m\u001b[0;34m\u001b[0m\u001b[0;34m\u001b[0m\u001b[0m\n\u001b[0m",
      "\u001b[0;32m~/.DATA/edu/IT/Software/SuperShapelySnakes/export/gds.py\u001b[0m in \u001b[0;36msave_gds_polys\u001b[0;34m(polys, filename, save_notebook)\u001b[0m\n\u001b[1;32m     69\u001b[0m \u001b[0;34m\u001b[0m\u001b[0m\n\u001b[1;32m     70\u001b[0m     \u001b[0;32mif\u001b[0m \u001b[0msave_notebook\u001b[0m\u001b[0;34m:\u001b[0m\u001b[0;34m\u001b[0m\u001b[0;34m\u001b[0m\u001b[0m\n\u001b[0;32m---> 71\u001b[0;31m         \u001b[0msave_frozen_notebook\u001b[0m\u001b[0;34m(\u001b[0m \u001b[0mfilename\u001b[0m \u001b[0;34m)\u001b[0m\u001b[0;34m\u001b[0m\u001b[0;34m\u001b[0m\u001b[0m\n\u001b[0m",
      "\u001b[0;32m~/.DATA/edu/IT/Software/SuperShapelySnakes/export/frozen_notebook.py\u001b[0m in \u001b[0;36msave_frozen_notebook\u001b[0;34m(filename)\u001b[0m\n\u001b[1;32m      5\u001b[0m \u001b[0;34m\u001b[0m\u001b[0m\n\u001b[1;32m      6\u001b[0m \u001b[0;32mdef\u001b[0m \u001b[0msave_frozen_notebook\u001b[0m\u001b[0;34m(\u001b[0m \u001b[0mfilename\u001b[0m \u001b[0;34m:\u001b[0m \u001b[0mstr\u001b[0m \u001b[0;34m)\u001b[0m \u001b[0;34m->\u001b[0m \u001b[0;32mNone\u001b[0m \u001b[0;34m:\u001b[0m\u001b[0;34m\u001b[0m\u001b[0;34m\u001b[0m\u001b[0m\n\u001b[0;32m----> 7\u001b[0;31m     \u001b[0mnb\u001b[0m \u001b[0;34m=\u001b[0m \u001b[0mnbformat\u001b[0m\u001b[0;34m.\u001b[0m\u001b[0mread\u001b[0m\u001b[0;34m(\u001b[0m \u001b[0mopen\u001b[0m\u001b[0;34m(\u001b[0m \u001b[0mipyparams\u001b[0m\u001b[0;34m.\u001b[0m\u001b[0mnotebook_name\u001b[0m\u001b[0;34m,\u001b[0m \u001b[0;34m\"r\"\u001b[0m \u001b[0;34m)\u001b[0m\u001b[0;34m,\u001b[0m \u001b[0mnbformat\u001b[0m\u001b[0;34m.\u001b[0m\u001b[0mcurrent_nbformat\u001b[0m \u001b[0;34m)\u001b[0m\u001b[0;34m\u001b[0m\u001b[0;34m\u001b[0m\u001b[0m\n\u001b[0m\u001b[1;32m      8\u001b[0m     \u001b[0;32mfor\u001b[0m \u001b[0mcell\u001b[0m \u001b[0;32min\u001b[0m \u001b[0mnb\u001b[0m\u001b[0;34m.\u001b[0m\u001b[0mcells\u001b[0m\u001b[0;34m:\u001b[0m\u001b[0;34m\u001b[0m\u001b[0;34m\u001b[0m\u001b[0m\n\u001b[1;32m      9\u001b[0m         \u001b[0;32mif\u001b[0m \u001b[0mcell\u001b[0m\u001b[0;34m.\u001b[0m\u001b[0mcell_type\u001b[0m \u001b[0;32min\u001b[0m \u001b[0;34m(\u001b[0m \u001b[0;34m'code'\u001b[0m\u001b[0;34m,\u001b[0m \u001b[0;34m'markdown'\u001b[0m \u001b[0;34m)\u001b[0m\u001b[0;34m:\u001b[0m\u001b[0;34m\u001b[0m\u001b[0;34m\u001b[0m\u001b[0m\n",
      "\u001b[0;31mFileNotFoundError\u001b[0m: [Errno 2] No such file or directory: ''"
     ]
    }
   ],
   "source": [
    "gdss = [\n",
    "    gds.poly_to_gds( launchL ),\n",
    "    gds.poly_to_gds( launchR ),\n",
    "    gds.line_to_gds( feed_lineL, w ),\n",
    "    gds.line_to_gds( feed_lineR, w ),   \n",
    "]\n",
    "\n",
    "gds.save_gds_polys( gdss, \"SaclayStyle-2f2gv1.5\", save_notebook = True)"
   ]
  },
  {
   "cell_type": "markdown",
   "metadata": {},
   "source": [
    "##### "
   ]
  }
 ],
 "metadata": {
  "hide_input": false,
  "kernelspec": {
   "display_name": "Python 3",
   "language": "python",
   "name": "python3"
  },
  "language_info": {
   "codemirror_mode": {
    "name": "ipython",
    "version": 3
   },
   "file_extension": ".py",
   "mimetype": "text/x-python",
   "name": "python",
   "nbconvert_exporter": "python",
   "pygments_lexer": "ipython3",
   "version": "3.8.5"
  },
  "latex_envs": {
   "LaTeX_envs_menu_present": true,
   "autoclose": false,
   "autocomplete": true,
   "bibliofile": "biblio.bib",
   "cite_by": "apalike",
   "current_citInitial": 1,
   "eqLabelWithNumbers": true,
   "eqNumInitial": 1,
   "hotkeys": {
    "equation": "Ctrl-E",
    "itemize": "Ctrl-I"
   },
   "labels_anchors": false,
   "latex_user_defs": false,
   "report_style_numbering": false,
   "user_envs_cfg": false
  },
  "toc": {
   "base_numbering": 1,
   "nav_menu": {},
   "number_sections": true,
   "sideBar": true,
   "skip_h1_title": false,
   "title_cell": "Table of Contents",
   "title_sidebar": "Contents",
   "toc_cell": false,
   "toc_position": {
    "height": "calc(100% - 180px)",
    "left": "10px",
    "top": "150px",
    "width": "272.8px"
   },
   "toc_section_display": true,
   "toc_window_display": true
  }
 },
 "nbformat": 4,
 "nbformat_minor": 4
}
