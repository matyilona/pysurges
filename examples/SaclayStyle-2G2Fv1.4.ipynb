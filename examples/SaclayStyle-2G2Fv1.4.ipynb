{
 "cells": [
  {
   "cell_type": "markdown",
   "metadata": {},
   "source": [
    "# SaclayStyle-2g2fv1.4\n",
    "\n",
    "- based on the design of https://doi.org/10.1103/PhysRevX.9.011010\n",
    "- 2 gate lines\n",
    "- 2 flux lines\n",
    "- every dimension is parametric, no magic numbers\n",
    "\n",
    "Differences compared to v1:\n",
    "- minimize number of polys\n",
    "- new fluxlines (based on arXiv:2004.03975 [cond-mat])\n"
   ]
  },
  {
   "cell_type": "code",
   "execution_count": 1,
   "metadata": {
    "ExecuteTime": {
     "end_time": "2020-09-07T08:35:29.230756Z",
     "start_time": "2020-09-07T08:35:27.940334Z"
    }
   },
   "outputs": [
    {
     "data": {
      "application/javascript": [
       "\n",
       "console.log('Starting front end url_querystring_target comm target');\n",
       "const comm = Jupyter.notebook.kernel.comm_manager.new_comm('url_querystring_target', {'init': 1});\n",
       "comm.send({'ipyparams_browser_url': window.location.href});\n",
       "console.log('Sent window.location.href on url_querystring_target comm target');\n",
       "\n",
       "comm.on_msg(function(msg) {\n",
       "    console.log(msg.content.data);\n",
       "});\n"
      ],
      "text/plain": [
       "<IPython.core.display.Javascript object>"
      ]
     },
     "metadata": {},
     "output_type": "display_data"
    }
   ],
   "source": [
    "import sys\n",
    "sys.path.append(\"..\")\n",
    "\n",
    "import display as disp\n",
    "import shapes as shp\n",
    "\n",
    "from export import dxf, gds, frozen_notebook\n",
    "\n",
    "import shapely as sp\n",
    "from shapely import affinity as aff\n",
    "from shapely.geometry import Point, LineString, Polygon, MultiLineString, MultiPolygon\n",
    "\n",
    "import numpy as np\n",
    "import re"
   ]
  },
  {
   "cell_type": "markdown",
   "metadata": {},
   "source": [
    "### Parameters\n",
    "Defining all the parameters."
   ]
  },
  {
   "cell_type": "code",
   "execution_count": 2,
   "metadata": {
    "ExecuteTime": {
     "end_time": "2020-09-07T08:35:29.239811Z",
     "start_time": "2020-09-07T08:35:29.232777Z"
    }
   },
   "outputs": [],
   "source": [
    "circle_polys = 16 #number of vertices in a circle\n",
    "s = 15. #cpwg s\n",
    "w = 5. #cpwg w\n",
    "launcher_width = 240. #launcher bondingpad size\n",
    "launcher_transition = 200. #launcher triangle length\n",
    "launcher_gap = 60. #gap around bonding pad of launcher\n",
    "margin = 20. #empty region around edge of WF\n",
    "WF = 2000. #WF size\n",
    "hanger_length = 420. #length of hanger piece parallel to feedline\n",
    "coupling_dist = 3. #distance of hanger from feedline\n",
    "hanger_offset = 90. #offset of hanger from launcher\n",
    "hanger_endgap = 23. #length of ditch at open end of resonator\n",
    "meander_r = 75. #meander radius\n",
    "L = 7*700+1000+420+4*2*75*np.pi #approx full length of resonator (calcualted from earlier samples)\n",
    "inlauncher_width = 130 # width on inlauncher triangle base\n",
    "inlauncher_length = 100 #length of inlauncher triangle\n",
    "inlauncher_gap = 100 #gap around inlauncher\n",
    "inlauncher_leggap = 3 #width of legs on inlauncher\n",
    "samplespaceA = 300 #width of samplespace\n",
    "samplespaceB = 600 #length of samplespace\n",
    "fluxline_extender = 10 #lengt of the extended flux line"
   ]
  },
  {
   "cell_type": "markdown",
   "metadata": {},
   "source": [
    "### Launcher and feedline\n",
    "Defining the feedline on which transmission is measured, as well as the two launchers. Since shapely affine transformations return copies, rather than transforming the original, only one launcher has to be defined, all others can be copies.\n",
    "\n",
    "Launchers are placed at the edge of the WF, to maximize the available area for the samplespace and resonator (a small margin is kept from the edge to ease the EBL process)."
   ]
  },
  {
   "cell_type": "code",
   "execution_count": 3,
   "metadata": {
    "ExecuteTime": {
     "end_time": "2020-09-07T08:35:29.606011Z",
     "start_time": "2020-09-07T08:35:29.594977Z"
    }
   },
   "outputs": [],
   "source": [
    "launchL, _, _ = shp.launcher( s, w,\n",
    "                        launcher_width, launcher_width , launcher_transition, launcher_gap )\n",
    "launchR = aff.rotate( launchL , angle=180, origin=(0,0) )\n",
    "b = launchL.bounds\n",
    "lw = b[2] - b[0]\n",
    "lh = b[3] - b[1]\n",
    "launchL = aff.translate( launchL, WF-margin-b[2] , lh/2+margin )\n",
    "launchR = aff.translate( launchR, lw+margin, lh/2+margin )\n",
    "\n",
    "feed_line = LineString(\n",
    "    ((lw+margin,lh/2+margin),\n",
    "     (WF-margin-lw,lh/2+margin))\n",
    ")\n",
    "feed_lineL, feed_lineR, _, _ = shp.line_to_cpwg( feed_line, s, w )\n",
    "\n",
    "feedline_with_launchers = MultiPolygon( (launchL, launchR, feed_lineL, feed_lineR ) )"
   ]
  },
  {
   "cell_type": "code",
   "execution_count": 4,
   "metadata": {
    "ExecuteTime": {
     "end_time": "2020-09-07T08:35:30.016158Z",
     "start_time": "2020-09-07T08:35:30.004836Z"
    },
    "hide_input": true,
    "scrolled": false
   },
   "outputs": [
    {
     "data": {
      "image/svg+xml": [
       "<svg viewbox=\"0 0 2000.0 400.0\">\n",
       "    <g>\n",
       "        <defs>\n",
       "            <pattern id=\"smallGrid\" width=\"20\" height=\"20\" patternUnits=\"userSpaceOnUse\">\n",
       "                <path id=\"minorSquare\" d=\"M 20 0 L 0 0 0 20\" fill=\"none\" stroke=\"gray\" stroke-width=\"3\"/>\n",
       "            </pattern>\n",
       "            <pattern id=\"grid\" width=\"200\" height=\"200\" patternUnits=\"userSpaceOnUse\">\n",
       "                <rect width=\"200\" height=\"200\" fill=\"url(#smallGrid)\"/>\n",
       "                <path id=\"majorSquare\" d=\"M 200 0 L 0 0 0 200\" fill=\"none\" stroke=\"blue\" stroke-width=\"3\"/>\n",
       "            </pattern>\n",
       "        </defs>\n",
       "        <rect x=\"0\" y=\"0\" width=\"2000.0\" height=\"2000.0\" fill=\"url(#grid)\"/>\n",
       "    </g><path fill-rule=\"evenodd\" fill=\"#ff0\" stroke=\"#555555\" stroke-width=\"2.0\" opacity=\"0.6\" d=\"M 1480.0,212.5 L 1680.0,380.0 L 1980.0,380.0 L 1980.0,20.0 L 1680.0,20.0 L 1480.0,187.5 L 1480.0,192.5 L 1680.0,80.0 L 1920.0,80.0 L 1920.0,320.0 L 1680.0,320.0 L 1480.0,207.5 L 1480.0,212.5 z\"/><path fill-rule=\"evenodd\" fill=\"#f0f\" stroke=\"#555555\" stroke-width=\"2.0\" opacity=\"0.6\" d=\"M 520.0,187.5 L 320.0,20.0 L 20.0,20.0 L 20.0,380.0 L 320.0,380.0 L 520.0,212.5 L 520.0,207.5 L 320.0,320.0 L 80.0,320.0 L 80.0,80.0 L 320.0,80.0 L 520.0,192.5 L 520.0,187.5 z\"/><path fill-rule=\"evenodd\" fill=\"#0ff\" stroke=\"#555555\" stroke-width=\"2.0\" opacity=\"0.6\" d=\"M 1480.0,212.5 L 1480.0,207.5 L 520.0,207.5 L 520.0,212.5 L 1480.0,212.5 z\"/><path fill-rule=\"evenodd\" fill=\"#0f0\" stroke=\"#555555\" stroke-width=\"2.0\" opacity=\"0.6\" d=\"M 520.0,187.5 L 520.0,192.5 L 1480.0,192.5 L 1480.0,187.5 L 520.0,187.5 z\"/></svg>"
      ],
      "text/plain": [
       "<IPython.core.display.SVG object>"
      ]
     },
     "metadata": {},
     "output_type": "display_data"
    }
   ],
   "source": [
    "disp.display_svg([\n",
    "    disp.generate_svg_grid(0,0,WF,WF,20,200,dattrib={\"stroke-width\":\"3\"},Dattrib={\"stroke-width\":\"3\"}),\n",
    "    disp.nice_svg( launchL, attribs={'fill':'#ff0'} ),\n",
    "    disp.nice_svg( launchR, attribs={'fill':'#f0f'} ),\n",
    "    disp.nice_svg( feed_lineL, attribs={'fill':'#0ff'} ),\n",
    "    disp.nice_svg( feed_lineR, attribs={'fill':'#0f0'} ),\n",
    "], (0,0,WF,WF/5)\n",
    ")"
   ]
  },
  {
   "cell_type": "markdown",
   "metadata": {},
   "source": [
    "### Resonator and meander\n",
    "Define the hanger (the part that is coupled to the feedline), the meander that hosts most of the length of the resonator, and the connecting bits and pieces"
   ]
  },
  {
   "cell_type": "code",
   "execution_count": 5,
   "metadata": {
    "ExecuteTime": {
     "end_time": "2020-09-07T08:35:30.892239Z",
     "start_time": "2020-09-07T08:35:30.831427Z"
    }
   },
   "outputs": [
    {
     "name": "stdout",
     "output_type": "stream",
     "text": [
      "\n",
      "    Length difference: 1.34115um\n",
      "    Total length: 8203.61um\n",
      "    \n"
     ]
    }
   ],
   "source": [
    "# the hanger is the part capacitively coupled to the feedline\n",
    "hanger_start = (lw+margin+hanger_offset, lh/2+margin+s+w*2+coupling_dist)\n",
    "hanger_end = (lw+margin+hanger_offset+hanger_length, lh/2+margin+s+w*2+coupling_dist)\n",
    "hanger_line = LineString( ( hanger_start, hanger_end ) )\n",
    "hanger_endcap = shp.box(aff.translate(Point(hanger_end),hanger_endgap/2,0), hanger_endgap, s+2*w)\n",
    "\n",
    "# bits and pieces connecting hanger to meander\n",
    "connectors = []\n",
    "connectors.append( shp.circle_segment(\n",
    "    aff.translate(Point(hanger_start),0,meander_r),\n",
    "    meander_r, np.pi, np.pi*1.5, d = int(circle_polys/4)\n",
    ") )\n",
    "\n",
    "l = launchL.bounds[3] - connectors[-1].bounds[3]\n",
    "connectors.append( LineString([\n",
    "    connectors[-1].coords[-1],\n",
    "    aff.translate( Point(connectors[-1].coords[-1]), 0, l ),\n",
    "]) )\n",
    "\n",
    "connectors.append( shp.circle_segment(\n",
    "    aff.translate( Point(connectors[-1].coords[-1]), -meander_r, 0 ),\n",
    "    meander_r, np.pi/2, 0, d = int(circle_polys/4)\n",
    ") )\n",
    "\n",
    "connectors.append( LineString([\n",
    "    connectors[-1].coords[-1],\n",
    "    [margin+launcher_gap+meander_r, connectors[-1].coords[-1][1]]\n",
    "]))\n",
    "\n",
    "connectors.append( shp.circle_segment(\n",
    "    aff.translate( Point(connectors[-1].coords[-1]), 0, meander_r ),\n",
    "    meander_r, np.pi, np.pi*1.5, d = int(circle_polys/4)\n",
    "))\n",
    "\n",
    "connectors.append( LineString([\n",
    "    Point(connectors[-1].coords[-1]),\n",
    "    aff.translate( Point(connectors[-1].coords[-1]), 0, meander_r ),\n",
    "]) )\n",
    "\n",
    "connector_line = sp.ops.linemerge( connectors )\n",
    "\n",
    "# meander\n",
    "l = WF-margin-2*(s+w)-meander_r-connectors[-1].bounds[3] #max length of straight pieces\n",
    "l_res = L - sp.ops.linemerge([hanger_line,connector_line]).length #length of resonator so far\n",
    "n = int( np.ceil( l_res/(l+np.pi*meander_r) ) ) #number of straight pieces\n",
    "meander_line = shp.basic_meander_line( l, meander_r, n, d = int(circle_polys/2) )\n",
    "meander_line = aff.affine_transform( meander_line, [0,1,1,0]+list(connectors[-1].coords[-1]) ) #flip, and move to end of connector\n",
    "resonator_line = sp.ops.linemerge( [hanger_line, connector_line, meander_line] )\n",
    "\n",
    "# shorten the last straight piece, to acheve desired length\n",
    "diff = resonator_line.length - L + meander_r*np.pi/2+w+s #lengt we have to cut back\n",
    "meander_line_end = aff.translate( Point(meander_line.coords[-1]), 0, -diff ) #new endpoint\n",
    "meander_line = LineString( meander_line.coords[:-1]+[meander_line_end] )\n",
    "resonator_line = sp.ops.linemerge( [hanger_line, connector_line, meander_line] )\n",
    "\n",
    "# generate inlauncher connector\n",
    "inlauncher_connector = shp.circle_segment(\n",
    "    aff.translate( Point( meander_line.coords[-1] ), meander_r, 0 ),\n",
    "    meander_r, -np.pi/2, 0, decimals=15, d=int(circle_polys/4)\n",
    ")\n",
    "inlauncher_straight = LineString([\n",
    "    inlauncher_connector.coords[-1],\n",
    "    aff.translate( Point( inlauncher_connector.coords[-1] ), w+s, 0 )\n",
    "])\n",
    "resonator_line = sp.ops.linemerge( [resonator_line, inlauncher_connector, inlauncher_straight] )\n",
    "\n",
    "resonatorL, resonatorR, resonator_lineL, resonator_lineR = shp.line_to_cpwg( resonator_line, s, w )\n",
    "\n",
    "# actual inlauncher\n",
    "inlauncher_template = Polygon([\n",
    "    [0,-w/2],\n",
    "    [0,w/2],\n",
    "    [inlauncher_length,inlauncher_gap+inlauncher_width/2-s/2-w/2],\n",
    "    [inlauncher_length,inlauncher_width/2-s/2-w/2]\n",
    "])\n",
    "inlauncherL = aff.translate( inlauncher_template ,*resonator_lineL.coords[-1] )\n",
    "inlauncherR = aff.affine_transform( inlauncher_template,[1,0,0,-1]+list(resonator_lineR.coords[0]) )\n",
    "\n",
    "resonator_with_inlauncher = MultiPolygon( [hanger_endcap, resonatorL, resonatorR, inlauncherL, inlauncherR] )\n",
    "\n",
    "print( f\"\"\"\n",
    "    Length difference: {L-resonator_line.length:.5f}um\n",
    "    Total length: {resonator_line.length:.2f}um\n",
    "    \"\"\")"
   ]
  },
  {
   "cell_type": "code",
   "execution_count": 6,
   "metadata": {
    "ExecuteTime": {
     "end_time": "2020-09-07T08:35:31.225994Z",
     "start_time": "2020-09-07T08:35:31.214074Z"
    }
   },
   "outputs": [
    {
     "data": {
      "image/svg+xml": [
       "<svg viewbox=\"0 0 2000.0 2000.0\">\n",
       "    <g>\n",
       "        <defs>\n",
       "            <pattern id=\"smallGrid\" width=\"20\" height=\"20\" patternUnits=\"userSpaceOnUse\">\n",
       "                <path id=\"minorSquare\" d=\"M 20 0 L 0 0 0 20\" fill=\"none\" stroke=\"gray\" stroke-width=\"3\"/>\n",
       "            </pattern>\n",
       "            <pattern id=\"grid\" width=\"200\" height=\"200\" patternUnits=\"userSpaceOnUse\">\n",
       "                <rect width=\"200\" height=\"200\" fill=\"url(#smallGrid)\"/>\n",
       "                <path id=\"majorSquare\" d=\"M 200 0 L 0 0 0 200\" fill=\"none\" stroke=\"blue\" stroke-width=\"3\"/>\n",
       "            </pattern>\n",
       "        </defs>\n",
       "        <rect x=\"0\" y=\"0\" width=\"2000.0\" height=\"2000.0\" fill=\"url(#grid)\"/>\n",
       "    </g><g stroke-width=\"0\"><path fill-rule=\"evenodd\" fill=\"#ff3333\" stroke=\"#555555\" stroke-width=\"2.0\" opacity=\"0.6\" d=\"M 1480.0,212.5 L 1680.0,380.0 L 1980.0,380.0 L 1980.0,20.0 L 1680.0,20.0 L 1480.0,187.5 L 1480.0,192.5 L 1680.0,80.0 L 1920.0,80.0 L 1920.0,320.0 L 1680.0,320.0 L 1480.0,207.5 L 1480.0,212.5 z\"/><path fill-rule=\"evenodd\" fill=\"#ff3333\" stroke=\"#555555\" stroke-width=\"2.0\" opacity=\"0.6\" d=\"M 520.0,187.5 L 320.0,20.0 L 20.0,20.0 L 20.0,380.0 L 320.0,380.0 L 520.0,212.5 L 520.0,207.5 L 320.0,320.0 L 80.0,320.0 L 80.0,80.0 L 320.0,80.0 L 520.0,192.5 L 520.0,187.5 z\"/><path fill-rule=\"evenodd\" fill=\"#ff3333\" stroke=\"#555555\" stroke-width=\"2.0\" opacity=\"0.6\" d=\"M 1480.0,212.5 L 1480.0,207.5 L 520.0,207.5 L 520.0,212.5 L 1480.0,212.5 z\"/><path fill-rule=\"evenodd\" fill=\"#ff3333\" stroke=\"#555555\" stroke-width=\"2.0\" opacity=\"0.6\" d=\"M 520.0,187.5 L 520.0,192.5 L 1480.0,192.5 L 1480.0,187.5 L 520.0,187.5 z\"/></g><path fill-rule=\"evenodd\" fill=\"#66cc99\" stroke=\"#555555\" stroke-width=\"0\" opacity=\"0.6\" d=\"M 1030.0,215.5 L 1030.0,240.5 L 1053.0,240.5 L 1053.0,215.5 L 1030.0,215.5 z\"/><path fill-rule=\"evenodd\" fill=\"#66cc99\" stroke=\"#555555\" stroke-width=\"0\" opacity=\"0.6\" d=\"M 756.645656219843,1533.6522107779333 L 723.970476127563,1524.896922659665 L 701.2552881182677,1502.1817346503701 L 692.5,1469.506554558091 L 692.5,603.5915891401648 L 684.1244075672964,566.8956972761317 L 659.7557894502861,536.3384176220775 L 624.5421126148666,519.38041 L 585.4578873851336,519.38041 L 550.2442105497138,536.3384176220777 L 525.8755924327036,566.8956972761316 L 517.5,603.5915891401648 L 517.5,1863.5915891401648 L 511.02093243270366,1891.9782572761314 L 493.7676905497137,1913.6131376220776 L 468.83602738513343,1925.61959 L 441.16397261486657,1925.61959 L 416.2323094502863,1913.6131376220776 L 398.9790675672963,1891.9782572761312 L 392.5,1863.591589140165 L 392.5,603.5915891401651 L 384.1244075672964,566.8956972761317 L 359.755789450286,536.3384176220774 L 324.5421126148666,519.38041 L 285.45788738513335,519.38041 L 250.24421054971393,536.3384176220775 L 225.87559243270368,566.8956972761317 L 217.5,603.5915891401651 L 217.5,1863.591589140165 L 211.02093243270372,1891.9782572761312 L 193.76769054971365,1913.6131376220776 L 168.83602738513343,1925.61959 L 141.16397261486657,1925.61959 L 116.23230945028634,1913.6131376220776 L 98.97906756729627,1891.9782572761312 L 92.5,1863.591589140165 L 92.5,531.6456554737573 L 101.2552839579063,498.9704755717574 L 123.97047557175739,476.25528395790633 L 156.6456554737573,467.5 L 461.6456554737573,467.5 L 503.9704755717574,456.1591039579063 L 536.1591039579065,423.9704755717571 L 547.5,381.6456554737576 L 547.5,304.6456554737576 L 556.2552839579065,271.9704755717572 L 578.9704755717572,249.2552839579064 L 611.6456554737573,240.5 L 1030.0,240.5 L 1030.0,235.5 L 610.9873932842544,235.5 L 576.3822853430544,244.7724063747439 L 551.7724063747438,269.3822853430544 L 542.5,303.98739328425455 L 542.5,380.98739328425455 L 531.6762263747438,421.38228534305426 L 501.38228534305443,451.67622637474375 L 460.98739328425427,462.5 L 155.98739328425432,462.5 L 121.38228534305443,471.77240637474375 L 96.77240637474378,496.38228534305443 L 87.5,530.9873932842544 L 87.5,1864.1549534840992 L 94.3583725403778,1894.2034663656789 L 113.03468967017166,1917.6228265732464 L 140.02275556891993,1930.61959 L 169.97724443108007,1930.61959 L 196.96531032982833,1917.6228265732464 L 215.6416274596222,1894.2034663656789 L 222.5,1864.1549534840992 L 222.5,604.1549534840992 L 230.49628745962224,569.1209063656789 L 253.44183032982832,540.3481065732465 L 286.5991044310801,524.38041 L 323.40089556891996,524.38041 L 356.55816967017154,540.3481065732464 L 379.50371254037776,569.1209063656789 L 387.5,604.1549534840992 L 387.5,1864.1549534840992 L 394.3583725403778,1894.2034663656789 L 413.03468967017164,1917.6228265732464 L 440.02275556891993,1930.61959 L 469.97724443108007,1930.61959 L 496.96531032982836,1917.6228265732464 L 515.6416274596222,1894.203466365679 L 522.5,1864.154953484099 L 522.5,604.154953484099 L 530.4962874596222,569.1209063656788 L 553.4418303298281,540.3481065732467 L 586.5991044310803,524.38041 L 623.40089556892,524.38041 L 656.5581696701718,540.3481065732465 L 679.5037125403778,569.1209063656789 L 687.5,604.154953484099 L 687.5,1470.1648170460276 L 696.7724107574276,1504.7699251013958 L 721.3822856765378,1529.3798000205056 L 755.9873937319055,1538.6522107779333 L 775.0,1538.6522107779333 L 775.0,1533.6522107779333 L 756.645656219843,1533.6522107779333 z\"/><path fill-rule=\"evenodd\" fill=\"#66cc99\" stroke=\"#555555\" stroke-width=\"0\" opacity=\"0.6\" d=\"M 608.3543445262427,215.5 L 566.0295244282428,226.84089604209362 L 533.8408960420935,259.0295244282428 L 522.5,301.35434452624247 L 522.5,378.35434452624247 L 513.7447160420935,411.0295244282428 L 491.0295244282426,433.74471604209367 L 458.35434452624264,442.5 L 153.35434452624267,442.5 L 111.02952442824261,453.8408960420937 L 78.8408960420937,486.0295244282426 L 67.5,528.3543445262427 L 67.5,1866.408410859835 L 75.87559243270375,1903.1043027238686 L 100.24421054971364,1933.6615823779223 L 135.4578873851334,1950.61959 L 174.5421126148666,1950.61959 L 209.7557894502864,1933.6615823779223 L 234.12440756729626,1903.1043027238686 L 242.5,1866.408410859835 L 242.5,606.4084108598349 L 248.97906756729637,578.0217427238682 L 266.232309450286,556.3868623779226 L 291.16397261486657,544.38041 L 318.8360273851334,544.38041 L 343.7676905497141,556.3868623779229 L 361.0209324327037,578.0217427238682 L 367.5,606.4084108598349 L 367.5,1866.408410859835 L 375.87559243270374,1903.1043027238686 L 400.2442105497137,1933.6615823779223 L 435.45788738513335,1950.61959 L 474.54211261486665,1950.61959 L 509.7557894502863,1933.6615823779225 L 534.1244075672964,1903.1043027238686 L 542.5,1866.4084108598352 L 542.5,606.4084108598352 L 548.9790675672964,578.0217427238683 L 566.2323094502864,556.3868623779224 L 591.1639726148663,544.38041 L 618.8360273851334,544.38041 L 643.767690549714,556.3868623779226 L 661.0209324327036,578.0217427238682 L 667.5,606.4084108598352 L 667.5,1472.7978669977756 L 678.8409013140664,1515.1226869054965 L 711.029523872437,1547.311309463867 L 753.354343780157,1558.6522107779333 L 775.0,1558.6522107779333 L 775.0,1553.6522107779333 L 754.0126062680945,1553.6522107779333 L 713.6177143234622,1542.8284321030264 L 683.3237786749065,1512.5344964544709 L 672.5,1472.139604509839 L 672.5,605.845046515901 L 665.6416274596222,575.796533634321 L 646.9653103298283,552.3771734267536 L 619.9772444310801,539.38041 L 590.0227555689197,539.38041 L 563.034689670172,552.3771734267534 L 544.3583725403778,575.7965336343211 L 537.5,605.845046515901 L 537.5,1865.845046515901 L 529.5037125403778,1900.879093634321 L 506.5581696701716,1929.6518934267533 L 473.4008955689199,1945.61959 L 436.5991044310801,1945.61959 L 403.4418303298284,1929.6518934267535 L 380.49628745962224,1900.879093634321 L 372.5,1865.8450465159008 L 372.5,605.8450465159008 L 365.6416274596223,575.796533634321 L 346.9653103298284,552.3771734267536 L 319.9772444310801,539.38041 L 290.02275556891993,539.38041 L 263.03468967017153,552.3771734267536 L 244.35837254037781,575.796533634321 L 237.5,605.8450465159008 L 237.5,1865.8450465159008 L 229.50371254037776,1900.879093634321 L 206.5581696701717,1929.6518934267535 L 173.40089556891996,1945.61959 L 136.59910443108004,1945.61959 L 103.44183032982826,1929.6518934267535 L 80.49628745962222,1900.879093634321 L 72.5,1865.8450465159008 L 72.5,529.0126067157456 L 83.32377362525622,488.61771465694557 L 113.61771465694557,458.32377362525625 L 154.01260671574565,447.5 L 459.0126067157457,447.5 L 493.61771465694557,438.22759362525625 L 518.2275936252562,413.6177146569456 L 527.5,379.0126067157455 L 527.5,302.0126067157455 L 538.3237736252562,261.6177146569456 L 568.6177146569456,231.3237736252562 L 609.0126067157456,220.5 L 1030.0,220.5 L 1030.0,215.5 L 608.3543445262427,215.5 z\"/><path fill-rule=\"evenodd\" fill=\"#66cc99\" stroke=\"#555555\" stroke-width=\"0\" opacity=\"0.6\" d=\"M 775.0,1538.6522107779333 L 775.0,1533.6522107779333 L 875.0,1381.1522107779333 L 875.0,1481.1522107779333 L 775.0,1538.6522107779333 z\"/><path fill-rule=\"evenodd\" fill=\"#f0f\" stroke=\"#555555\" stroke-width=\"2.0\" opacity=\"0.6\" d=\"M 775.0,1553.6522107779333 L 775.0,1558.6522107779333 L 875.0,1711.1522107779333 L 875.0,1611.1522107779333 L 775.0,1553.6522107779333 z\"/></svg>"
      ],
      "text/plain": [
       "<IPython.core.display.SVG object>"
      ]
     },
     "metadata": {},
     "output_type": "display_data"
    }
   ],
   "source": [
    "disp.display_svg([\n",
    "    disp.generate_svg_grid(0,0,WF,WF,20,200,dattrib={\"stroke-width\":\"3\"},Dattrib={\"stroke-width\":\"3\"}),\n",
    "    disp.nice_svg( feedline_with_launchers ),\n",
    "    disp.nice_svg( hanger_endcap ),\n",
    "    disp.nice_svg( resonatorR ),\n",
    "    disp.nice_svg( resonatorL ),\n",
    "    disp.nice_svg( inlauncherR ),\n",
    "    disp.nice_svg( inlauncherL, attribs={'fill':'#f0f'} ),\n",
    "    \n",
    "], (0,0,WF,WF)\n",
    ")"
   ]
  },
  {
   "cell_type": "markdown",
   "metadata": {
    "ExecuteTime": {
     "end_time": "2020-08-03T09:28:01.831576Z",
     "start_time": "2020-08-03T09:28:01.815889Z"
    }
   },
   "source": [
    "### Sample space\n",
    "Generating the empty space that will house the sample. It's a simple rectangle, future vers might include markers."
   ]
  },
  {
   "cell_type": "code",
   "execution_count": 7,
   "metadata": {
    "ExecuteTime": {
     "end_time": "2020-09-07T08:35:32.080235Z",
     "start_time": "2020-09-07T08:35:32.066068Z"
    }
   },
   "outputs": [],
   "source": [
    "samplespace_center = aff.translate( Point(inlauncherL.bounds[2:]), inlauncher_leggap+samplespaceA/2, -samplespaceB/2 )\n",
    "samplespace = shp.box( samplespace_center, samplespaceA, samplespaceB )"
   ]
  },
  {
   "cell_type": "code",
   "execution_count": 8,
   "metadata": {
    "ExecuteTime": {
     "end_time": "2020-09-07T08:35:32.465732Z",
     "start_time": "2020-09-07T08:35:32.454273Z"
    }
   },
   "outputs": [
    {
     "data": {
      "image/svg+xml": [
       "<svg viewbox=\"0 0 2000.0 2000.0\">\n",
       "    <g>\n",
       "        <defs>\n",
       "            <pattern id=\"smallGrid\" width=\"20\" height=\"20\" patternUnits=\"userSpaceOnUse\">\n",
       "                <path id=\"minorSquare\" d=\"M 20 0 L 0 0 0 20\" fill=\"none\" stroke=\"gray\" stroke-width=\"3\"/>\n",
       "            </pattern>\n",
       "            <pattern id=\"grid\" width=\"200\" height=\"200\" patternUnits=\"userSpaceOnUse\">\n",
       "                <rect width=\"200\" height=\"200\" fill=\"url(#smallGrid)\"/>\n",
       "                <path id=\"majorSquare\" d=\"M 200 0 L 0 0 0 200\" fill=\"none\" stroke=\"blue\" stroke-width=\"3\"/>\n",
       "            </pattern>\n",
       "        </defs>\n",
       "        <rect x=\"0\" y=\"0\" width=\"2000.0\" height=\"2000.0\" fill=\"url(#grid)\"/>\n",
       "    </g><g stroke-width=\"0\"><path fill-rule=\"evenodd\" fill=\"#ff3333\" stroke=\"#555555\" stroke-width=\"2.0\" opacity=\"0.6\" d=\"M 1480.0,212.5 L 1680.0,380.0 L 1980.0,380.0 L 1980.0,20.0 L 1680.0,20.0 L 1480.0,187.5 L 1480.0,192.5 L 1680.0,80.0 L 1920.0,80.0 L 1920.0,320.0 L 1680.0,320.0 L 1480.0,207.5 L 1480.0,212.5 z\"/><path fill-rule=\"evenodd\" fill=\"#ff3333\" stroke=\"#555555\" stroke-width=\"2.0\" opacity=\"0.6\" d=\"M 520.0,187.5 L 320.0,20.0 L 20.0,20.0 L 20.0,380.0 L 320.0,380.0 L 520.0,212.5 L 520.0,207.5 L 320.0,320.0 L 80.0,320.0 L 80.0,80.0 L 320.0,80.0 L 520.0,192.5 L 520.0,187.5 z\"/><path fill-rule=\"evenodd\" fill=\"#ff3333\" stroke=\"#555555\" stroke-width=\"2.0\" opacity=\"0.6\" d=\"M 1480.0,212.5 L 1480.0,207.5 L 520.0,207.5 L 520.0,212.5 L 1480.0,212.5 z\"/><path fill-rule=\"evenodd\" fill=\"#ff3333\" stroke=\"#555555\" stroke-width=\"2.0\" opacity=\"0.6\" d=\"M 520.0,187.5 L 520.0,192.5 L 1480.0,192.5 L 1480.0,187.5 L 520.0,187.5 z\"/></g><g stroke-width=\"0\"><path fill-rule=\"evenodd\" fill=\"#ff3333\" stroke=\"#555555\" stroke-width=\"2.0\" opacity=\"0.6\" d=\"M 1030.0,215.5 L 1030.0,240.5 L 1053.0,240.5 L 1053.0,215.5 L 1030.0,215.5 z\"/><path fill-rule=\"evenodd\" fill=\"#ff3333\" stroke=\"#555555\" stroke-width=\"2.0\" opacity=\"0.6\" d=\"M 608.3543445262427,215.5 L 566.0295244282428,226.84089604209362 L 533.8408960420935,259.0295244282428 L 522.5,301.35434452624247 L 522.5,378.35434452624247 L 513.7447160420935,411.0295244282428 L 491.0295244282426,433.74471604209367 L 458.35434452624264,442.5 L 153.35434452624267,442.5 L 111.02952442824261,453.8408960420937 L 78.8408960420937,486.0295244282426 L 67.5,528.3543445262427 L 67.5,1866.408410859835 L 75.87559243270375,1903.1043027238686 L 100.24421054971364,1933.6615823779223 L 135.4578873851334,1950.61959 L 174.5421126148666,1950.61959 L 209.7557894502864,1933.6615823779223 L 234.12440756729626,1903.1043027238686 L 242.5,1866.408410859835 L 242.5,606.4084108598349 L 248.97906756729637,578.0217427238682 L 266.232309450286,556.3868623779226 L 291.16397261486657,544.38041 L 318.8360273851334,544.38041 L 343.7676905497141,556.3868623779229 L 361.0209324327037,578.0217427238682 L 367.5,606.4084108598349 L 367.5,1866.408410859835 L 375.87559243270374,1903.1043027238686 L 400.2442105497137,1933.6615823779223 L 435.45788738513335,1950.61959 L 474.54211261486665,1950.61959 L 509.7557894502863,1933.6615823779225 L 534.1244075672964,1903.1043027238686 L 542.5,1866.4084108598352 L 542.5,606.4084108598352 L 548.9790675672964,578.0217427238683 L 566.2323094502864,556.3868623779224 L 591.1639726148663,544.38041 L 618.8360273851334,544.38041 L 643.767690549714,556.3868623779226 L 661.0209324327036,578.0217427238682 L 667.5,606.4084108598352 L 667.5,1472.7978669977756 L 678.8409013140664,1515.1226869054965 L 711.029523872437,1547.311309463867 L 753.354343780157,1558.6522107779333 L 775.0,1558.6522107779333 L 775.0,1553.6522107779333 L 754.0126062680945,1553.6522107779333 L 713.6177143234622,1542.8284321030264 L 683.3237786749065,1512.5344964544709 L 672.5,1472.139604509839 L 672.5,605.845046515901 L 665.6416274596222,575.796533634321 L 646.9653103298283,552.3771734267536 L 619.9772444310801,539.38041 L 590.0227555689197,539.38041 L 563.034689670172,552.3771734267534 L 544.3583725403778,575.7965336343211 L 537.5,605.845046515901 L 537.5,1865.845046515901 L 529.5037125403778,1900.879093634321 L 506.5581696701716,1929.6518934267533 L 473.4008955689199,1945.61959 L 436.5991044310801,1945.61959 L 403.4418303298284,1929.6518934267535 L 380.49628745962224,1900.879093634321 L 372.5,1865.8450465159008 L 372.5,605.8450465159008 L 365.6416274596223,575.796533634321 L 346.9653103298284,552.3771734267536 L 319.9772444310801,539.38041 L 290.02275556891993,539.38041 L 263.03468967017153,552.3771734267536 L 244.35837254037781,575.796533634321 L 237.5,605.8450465159008 L 237.5,1865.8450465159008 L 229.50371254037776,1900.879093634321 L 206.5581696701717,1929.6518934267535 L 173.40089556891996,1945.61959 L 136.59910443108004,1945.61959 L 103.44183032982826,1929.6518934267535 L 80.49628745962222,1900.879093634321 L 72.5,1865.8450465159008 L 72.5,529.0126067157456 L 83.32377362525622,488.61771465694557 L 113.61771465694557,458.32377362525625 L 154.01260671574565,447.5 L 459.0126067157457,447.5 L 493.61771465694557,438.22759362525625 L 518.2275936252562,413.6177146569456 L 527.5,379.0126067157455 L 527.5,302.0126067157455 L 538.3237736252562,261.6177146569456 L 568.6177146569456,231.3237736252562 L 609.0126067157456,220.5 L 1030.0,220.5 L 1030.0,215.5 L 608.3543445262427,215.5 z\"/><path fill-rule=\"evenodd\" fill=\"#ff3333\" stroke=\"#555555\" stroke-width=\"2.0\" opacity=\"0.6\" d=\"M 756.645656219843,1533.6522107779333 L 723.970476127563,1524.896922659665 L 701.2552881182677,1502.1817346503701 L 692.5,1469.506554558091 L 692.5,603.5915891401648 L 684.1244075672964,566.8956972761317 L 659.7557894502861,536.3384176220775 L 624.5421126148666,519.38041 L 585.4578873851336,519.38041 L 550.2442105497138,536.3384176220777 L 525.8755924327036,566.8956972761316 L 517.5,603.5915891401648 L 517.5,1863.5915891401648 L 511.02093243270366,1891.9782572761314 L 493.7676905497137,1913.6131376220776 L 468.83602738513343,1925.61959 L 441.16397261486657,1925.61959 L 416.2323094502863,1913.6131376220776 L 398.9790675672963,1891.9782572761312 L 392.5,1863.591589140165 L 392.5,603.5915891401651 L 384.1244075672964,566.8956972761317 L 359.755789450286,536.3384176220774 L 324.5421126148666,519.38041 L 285.45788738513335,519.38041 L 250.24421054971393,536.3384176220775 L 225.87559243270368,566.8956972761317 L 217.5,603.5915891401651 L 217.5,1863.591589140165 L 211.02093243270372,1891.9782572761312 L 193.76769054971365,1913.6131376220776 L 168.83602738513343,1925.61959 L 141.16397261486657,1925.61959 L 116.23230945028634,1913.6131376220776 L 98.97906756729627,1891.9782572761312 L 92.5,1863.591589140165 L 92.5,531.6456554737573 L 101.2552839579063,498.9704755717574 L 123.97047557175739,476.25528395790633 L 156.6456554737573,467.5 L 461.6456554737573,467.5 L 503.9704755717574,456.1591039579063 L 536.1591039579065,423.9704755717571 L 547.5,381.6456554737576 L 547.5,304.6456554737576 L 556.2552839579065,271.9704755717572 L 578.9704755717572,249.2552839579064 L 611.6456554737573,240.5 L 1030.0,240.5 L 1030.0,235.5 L 610.9873932842544,235.5 L 576.3822853430544,244.7724063747439 L 551.7724063747438,269.3822853430544 L 542.5,303.98739328425455 L 542.5,380.98739328425455 L 531.6762263747438,421.38228534305426 L 501.38228534305443,451.67622637474375 L 460.98739328425427,462.5 L 155.98739328425432,462.5 L 121.38228534305443,471.77240637474375 L 96.77240637474378,496.38228534305443 L 87.5,530.9873932842544 L 87.5,1864.1549534840992 L 94.3583725403778,1894.2034663656789 L 113.03468967017166,1917.6228265732464 L 140.02275556891993,1930.61959 L 169.97724443108007,1930.61959 L 196.96531032982833,1917.6228265732464 L 215.6416274596222,1894.2034663656789 L 222.5,1864.1549534840992 L 222.5,604.1549534840992 L 230.49628745962224,569.1209063656789 L 253.44183032982832,540.3481065732465 L 286.5991044310801,524.38041 L 323.40089556891996,524.38041 L 356.55816967017154,540.3481065732464 L 379.50371254037776,569.1209063656789 L 387.5,604.1549534840992 L 387.5,1864.1549534840992 L 394.3583725403778,1894.2034663656789 L 413.03468967017164,1917.6228265732464 L 440.02275556891993,1930.61959 L 469.97724443108007,1930.61959 L 496.96531032982836,1917.6228265732464 L 515.6416274596222,1894.203466365679 L 522.5,1864.154953484099 L 522.5,604.154953484099 L 530.4962874596222,569.1209063656788 L 553.4418303298281,540.3481065732467 L 586.5991044310803,524.38041 L 623.40089556892,524.38041 L 656.5581696701718,540.3481065732465 L 679.5037125403778,569.1209063656789 L 687.5,604.154953484099 L 687.5,1470.1648170460276 L 696.7724107574276,1504.7699251013958 L 721.3822856765378,1529.3798000205056 L 755.9873937319055,1538.6522107779333 L 775.0,1538.6522107779333 L 775.0,1533.6522107779333 L 756.645656219843,1533.6522107779333 z\"/><path fill-rule=\"evenodd\" fill=\"#ff3333\" stroke=\"#555555\" stroke-width=\"2.0\" opacity=\"0.6\" d=\"M 775.0,1553.6522107779333 L 775.0,1558.6522107779333 L 875.0,1711.1522107779333 L 875.0,1611.1522107779333 L 775.0,1553.6522107779333 z\"/><path fill-rule=\"evenodd\" fill=\"#ff3333\" stroke=\"#555555\" stroke-width=\"2.0\" opacity=\"0.6\" d=\"M 775.0,1538.6522107779333 L 775.0,1533.6522107779333 L 875.0,1381.1522107779333 L 875.0,1481.1522107779333 L 775.0,1538.6522107779333 z\"/></g><path fill-rule=\"evenodd\" fill=\"#66cc99\" stroke=\"#555555\" stroke-width=\"0\" opacity=\"0.6\" d=\"M 878.0,1111.1522107779333 L 878.0,1711.1522107779333 L 1178.0,1711.1522107779333 L 1178.0,1111.1522107779333 L 878.0,1111.1522107779333 z\"/></svg>"
      ],
      "text/plain": [
       "<IPython.core.display.SVG object>"
      ]
     },
     "metadata": {},
     "output_type": "display_data"
    }
   ],
   "source": [
    "disp.display_svg([\n",
    "    disp.generate_svg_grid(0,0,WF,WF,20,200,dattrib={\"stroke-width\":\"3\"},Dattrib={\"stroke-width\":\"3\"}),\n",
    "    disp.nice_svg( feedline_with_launchers ),\n",
    "    disp.nice_svg( resonator_with_inlauncher ),\n",
    "    disp.nice_svg( samplespace ),\n",
    "    \n",
    "], (0,0,WF,WF)\n",
    ")"
   ]
  },
  {
   "cell_type": "markdown",
   "metadata": {},
   "source": [
    "### Gates, and fluxlines\n",
    "Generates launcher for all 4 lines along one side. Gate lines are connected to the sample space. Flux lines terminate before reaching the sample space. The current flowing through the pieces of groundplane between the fluxine and the samplespace generate the fluxes for tuning SQUIDS."
   ]
  },
  {
   "cell_type": "code",
   "execution_count": 9,
   "metadata": {
    "ExecuteTime": {
     "end_time": "2020-09-07T08:35:33.345311Z",
     "start_time": "2020-09-07T08:35:33.271646Z"
    }
   },
   "outputs": [],
   "source": [
    "#launchers along the edge\n",
    "gate_launchers = [ aff.translate( launchL, 0, (lh+margin*2)*i) for i in range(1,5) ]\n",
    "launcher_start =[ [l.bounds[0],l.bounds[1]/2+l.bounds[3]/2] for l in gate_launchers ]\n",
    "\n",
    "#first flux line\n",
    "flux1_line = [LineString([\n",
    "    launcher_start[0],\n",
    "    [samplespace.bounds[0]-3*inlauncher_leggap, launcher_start[0][1]],\n",
    "])]\n",
    "flux1_line.append(shp.circle_segment(\n",
    "    aff.translate( Point(flux1_line[-1].coords[-1]), 0, meander_r ),\n",
    "    meander_r, np.pi, np.pi*1.5, d = int(circle_polys/4)\n",
    "))\n",
    "flux1_line.append(LineString([\n",
    "    flux1_line[-1].coords[-1],\n",
    "    [flux1_line[-1].coords[-1][0], samplespace.bounds[1]+samplespaceB-inlauncher_gap*2-inlauncher_width-2*meander_r],\n",
    "]))\n",
    "flux1_line.append(shp.circle_segment(\n",
    "    aff.translate( Point(flux1_line[-1].coords[-1]), meander_r, 0 ),\n",
    "    meander_r, -np.pi*.5, 0, decimals=14, d=int(circle_polys/4)\n",
    "))\n",
    "flux1_line.append(LineString([\n",
    "    flux1_line[-1].coords[-1],\n",
    "    aff.translate( Point(flux1_line[-1].coords[-1]), inlauncher_leggap*2, 0 )\n",
    "]))\n",
    "flux1_line = sp.ops.linemerge( flux1_line )\n",
    "flux1R, flux1L, _, _ = shp.line_to_cpwg( flux1_line, s, w )\n",
    "#cut one side, extend the other\n",
    "mid = aff.translate( Point(flux1_line.coords[-1]), -w/2, (s/2+w)+fluxline_extender/2 )\n",
    "flux1R_extend = shp.box( mid, w, fluxline_extender )\n",
    "flux1R = sp.ops.unary_union( (flux1R, flux1R_extend) )\n",
    "mid = aff.translate( Point(flux1_line.coords[-1]), inlauncher_leggap/2, -(s+w)/2 )\n",
    "flux1L_endcap = shp.box( mid, inlauncher_leggap, w )\n",
    "flux1L = sp.ops.unary_union( (flux1L, flux1L_endcap) )\n",
    "\n",
    "#second flux line\n",
    "flux2_line = LineString([\n",
    "    launcher_start[2],\n",
    "    [samplespace.bounds[2]+inlauncher_leggap,launcher_start[2][1]]\n",
    "])\n",
    "flux2R, flux2L, _, _ = shp.line_to_cpwg( flux2_line, s, w )\n",
    "#cut one side, extend the other\n",
    "mid = aff.translate( Point(flux2_line.coords[-1]), w/2, (s/2+w)+fluxline_extender/2 )\n",
    "flux2L_extend = shp.box( mid, w, fluxline_extender )\n",
    "flux2L = sp.ops.unary_union( (flux2L, flux2L_extend) )\n",
    "mid = aff.translate( Point(flux2_line.coords[-1]), -inlauncher_leggap/2, -(s+w)/2 )\n",
    "flux2R_endcap = shp.box( mid, inlauncher_leggap, w )\n",
    "flux2R = sp.ops.unary_union( (flux2R, flux2R_endcap) )\n",
    "\n",
    "#first gate line\n",
    "gate1_line = LineString([\n",
    "    launcher_start[1],\n",
    "    [samplespace_center.x,launcher_start[1][1]],\n",
    "    [samplespace_center.x,samplespace.bounds[1]],\n",
    "])\n",
    "gate1R, gate1L, _, _ = shp.line_to_cpwg( gate1_line, s, w )\n",
    "\n",
    "#second gate line\n",
    "gate2_line = LineString([\n",
    "    launcher_start[3],\n",
    "    [samplespace_center.x,launcher_start[3][1]],\n",
    "    [samplespace_center.x,samplespace.bounds[3]],\n",
    "])\n",
    "gate2R, gate2L, _, _ = shp.line_to_cpwg( gate2_line, s, w )"
   ]
  },
  {
   "cell_type": "code",
   "execution_count": 10,
   "metadata": {
    "ExecuteTime": {
     "end_time": "2020-09-07T08:35:33.737021Z",
     "start_time": "2020-09-07T08:35:33.711665Z"
    }
   },
   "outputs": [
    {
     "data": {
      "image/svg+xml": [
       "<svg viewbox=\"0 0 2000.0 2000.0\">\n",
       "    <g>\n",
       "        <defs>\n",
       "            <pattern id=\"smallGrid\" width=\"20\" height=\"20\" patternUnits=\"userSpaceOnUse\">\n",
       "                <path id=\"minorSquare\" d=\"M 20 0 L 0 0 0 20\" fill=\"none\" stroke=\"gray\" stroke-width=\"3\"/>\n",
       "            </pattern>\n",
       "            <pattern id=\"grid\" width=\"200\" height=\"200\" patternUnits=\"userSpaceOnUse\">\n",
       "                <rect width=\"200\" height=\"200\" fill=\"url(#smallGrid)\"/>\n",
       "                <path id=\"majorSquare\" d=\"M 200 0 L 0 0 0 200\" fill=\"none\" stroke=\"blue\" stroke-width=\"3\"/>\n",
       "            </pattern>\n",
       "        </defs>\n",
       "        <rect x=\"0\" y=\"0\" width=\"2000.0\" height=\"2000.0\" fill=\"url(#grid)\"/>\n",
       "    </g><g stroke-width=\"0\"><path fill-rule=\"evenodd\" fill=\"#ff3333\" stroke=\"#555555\" stroke-width=\"2.0\" opacity=\"0.6\" d=\"M 1480.0,212.5 L 1680.0,380.0 L 1980.0,380.0 L 1980.0,20.0 L 1680.0,20.0 L 1480.0,187.5 L 1480.0,192.5 L 1680.0,80.0 L 1920.0,80.0 L 1920.0,320.0 L 1680.0,320.0 L 1480.0,207.5 L 1480.0,212.5 z\"/><path fill-rule=\"evenodd\" fill=\"#ff3333\" stroke=\"#555555\" stroke-width=\"2.0\" opacity=\"0.6\" d=\"M 520.0,187.5 L 320.0,20.0 L 20.0,20.0 L 20.0,380.0 L 320.0,380.0 L 520.0,212.5 L 520.0,207.5 L 320.0,320.0 L 80.0,320.0 L 80.0,80.0 L 320.0,80.0 L 520.0,192.5 L 520.0,187.5 z\"/><path fill-rule=\"evenodd\" fill=\"#ff3333\" stroke=\"#555555\" stroke-width=\"2.0\" opacity=\"0.6\" d=\"M 1480.0,212.5 L 1480.0,207.5 L 520.0,207.5 L 520.0,212.5 L 1480.0,212.5 z\"/><path fill-rule=\"evenodd\" fill=\"#ff3333\" stroke=\"#555555\" stroke-width=\"2.0\" opacity=\"0.6\" d=\"M 520.0,187.5 L 520.0,192.5 L 1480.0,192.5 L 1480.0,187.5 L 520.0,187.5 z\"/></g><g stroke-width=\"0\"><path fill-rule=\"evenodd\" fill=\"#ff3333\" stroke=\"#555555\" stroke-width=\"2.0\" opacity=\"0.6\" d=\"M 1030.0,215.5 L 1030.0,240.5 L 1053.0,240.5 L 1053.0,215.5 L 1030.0,215.5 z\"/><path fill-rule=\"evenodd\" fill=\"#ff3333\" stroke=\"#555555\" stroke-width=\"2.0\" opacity=\"0.6\" d=\"M 608.3543445262427,215.5 L 566.0295244282428,226.84089604209362 L 533.8408960420935,259.0295244282428 L 522.5,301.35434452624247 L 522.5,378.35434452624247 L 513.7447160420935,411.0295244282428 L 491.0295244282426,433.74471604209367 L 458.35434452624264,442.5 L 153.35434452624267,442.5 L 111.02952442824261,453.8408960420937 L 78.8408960420937,486.0295244282426 L 67.5,528.3543445262427 L 67.5,1866.408410859835 L 75.87559243270375,1903.1043027238686 L 100.24421054971364,1933.6615823779223 L 135.4578873851334,1950.61959 L 174.5421126148666,1950.61959 L 209.7557894502864,1933.6615823779223 L 234.12440756729626,1903.1043027238686 L 242.5,1866.408410859835 L 242.5,606.4084108598349 L 248.97906756729637,578.0217427238682 L 266.232309450286,556.3868623779226 L 291.16397261486657,544.38041 L 318.8360273851334,544.38041 L 343.7676905497141,556.3868623779229 L 361.0209324327037,578.0217427238682 L 367.5,606.4084108598349 L 367.5,1866.408410859835 L 375.87559243270374,1903.1043027238686 L 400.2442105497137,1933.6615823779223 L 435.45788738513335,1950.61959 L 474.54211261486665,1950.61959 L 509.7557894502863,1933.6615823779225 L 534.1244075672964,1903.1043027238686 L 542.5,1866.4084108598352 L 542.5,606.4084108598352 L 548.9790675672964,578.0217427238683 L 566.2323094502864,556.3868623779224 L 591.1639726148663,544.38041 L 618.8360273851334,544.38041 L 643.767690549714,556.3868623779226 L 661.0209324327036,578.0217427238682 L 667.5,606.4084108598352 L 667.5,1472.7978669977756 L 678.8409013140664,1515.1226869054965 L 711.029523872437,1547.311309463867 L 753.354343780157,1558.6522107779333 L 775.0,1558.6522107779333 L 775.0,1553.6522107779333 L 754.0126062680945,1553.6522107779333 L 713.6177143234622,1542.8284321030264 L 683.3237786749065,1512.5344964544709 L 672.5,1472.139604509839 L 672.5,605.845046515901 L 665.6416274596222,575.796533634321 L 646.9653103298283,552.3771734267536 L 619.9772444310801,539.38041 L 590.0227555689197,539.38041 L 563.034689670172,552.3771734267534 L 544.3583725403778,575.7965336343211 L 537.5,605.845046515901 L 537.5,1865.845046515901 L 529.5037125403778,1900.879093634321 L 506.5581696701716,1929.6518934267533 L 473.4008955689199,1945.61959 L 436.5991044310801,1945.61959 L 403.4418303298284,1929.6518934267535 L 380.49628745962224,1900.879093634321 L 372.5,1865.8450465159008 L 372.5,605.8450465159008 L 365.6416274596223,575.796533634321 L 346.9653103298284,552.3771734267536 L 319.9772444310801,539.38041 L 290.02275556891993,539.38041 L 263.03468967017153,552.3771734267536 L 244.35837254037781,575.796533634321 L 237.5,605.8450465159008 L 237.5,1865.8450465159008 L 229.50371254037776,1900.879093634321 L 206.5581696701717,1929.6518934267535 L 173.40089556891996,1945.61959 L 136.59910443108004,1945.61959 L 103.44183032982826,1929.6518934267535 L 80.49628745962222,1900.879093634321 L 72.5,1865.8450465159008 L 72.5,529.0126067157456 L 83.32377362525622,488.61771465694557 L 113.61771465694557,458.32377362525625 L 154.01260671574565,447.5 L 459.0126067157457,447.5 L 493.61771465694557,438.22759362525625 L 518.2275936252562,413.6177146569456 L 527.5,379.0126067157455 L 527.5,302.0126067157455 L 538.3237736252562,261.6177146569456 L 568.6177146569456,231.3237736252562 L 609.0126067157456,220.5 L 1030.0,220.5 L 1030.0,215.5 L 608.3543445262427,215.5 z\"/><path fill-rule=\"evenodd\" fill=\"#ff3333\" stroke=\"#555555\" stroke-width=\"2.0\" opacity=\"0.6\" d=\"M 756.645656219843,1533.6522107779333 L 723.970476127563,1524.896922659665 L 701.2552881182677,1502.1817346503701 L 692.5,1469.506554558091 L 692.5,603.5915891401648 L 684.1244075672964,566.8956972761317 L 659.7557894502861,536.3384176220775 L 624.5421126148666,519.38041 L 585.4578873851336,519.38041 L 550.2442105497138,536.3384176220777 L 525.8755924327036,566.8956972761316 L 517.5,603.5915891401648 L 517.5,1863.5915891401648 L 511.02093243270366,1891.9782572761314 L 493.7676905497137,1913.6131376220776 L 468.83602738513343,1925.61959 L 441.16397261486657,1925.61959 L 416.2323094502863,1913.6131376220776 L 398.9790675672963,1891.9782572761312 L 392.5,1863.591589140165 L 392.5,603.5915891401651 L 384.1244075672964,566.8956972761317 L 359.755789450286,536.3384176220774 L 324.5421126148666,519.38041 L 285.45788738513335,519.38041 L 250.24421054971393,536.3384176220775 L 225.87559243270368,566.8956972761317 L 217.5,603.5915891401651 L 217.5,1863.591589140165 L 211.02093243270372,1891.9782572761312 L 193.76769054971365,1913.6131376220776 L 168.83602738513343,1925.61959 L 141.16397261486657,1925.61959 L 116.23230945028634,1913.6131376220776 L 98.97906756729627,1891.9782572761312 L 92.5,1863.591589140165 L 92.5,531.6456554737573 L 101.2552839579063,498.9704755717574 L 123.97047557175739,476.25528395790633 L 156.6456554737573,467.5 L 461.6456554737573,467.5 L 503.9704755717574,456.1591039579063 L 536.1591039579065,423.9704755717571 L 547.5,381.6456554737576 L 547.5,304.6456554737576 L 556.2552839579065,271.9704755717572 L 578.9704755717572,249.2552839579064 L 611.6456554737573,240.5 L 1030.0,240.5 L 1030.0,235.5 L 610.9873932842544,235.5 L 576.3822853430544,244.7724063747439 L 551.7724063747438,269.3822853430544 L 542.5,303.98739328425455 L 542.5,380.98739328425455 L 531.6762263747438,421.38228534305426 L 501.38228534305443,451.67622637474375 L 460.98739328425427,462.5 L 155.98739328425432,462.5 L 121.38228534305443,471.77240637474375 L 96.77240637474378,496.38228534305443 L 87.5,530.9873932842544 L 87.5,1864.1549534840992 L 94.3583725403778,1894.2034663656789 L 113.03468967017166,1917.6228265732464 L 140.02275556891993,1930.61959 L 169.97724443108007,1930.61959 L 196.96531032982833,1917.6228265732464 L 215.6416274596222,1894.2034663656789 L 222.5,1864.1549534840992 L 222.5,604.1549534840992 L 230.49628745962224,569.1209063656789 L 253.44183032982832,540.3481065732465 L 286.5991044310801,524.38041 L 323.40089556891996,524.38041 L 356.55816967017154,540.3481065732464 L 379.50371254037776,569.1209063656789 L 387.5,604.1549534840992 L 387.5,1864.1549534840992 L 394.3583725403778,1894.2034663656789 L 413.03468967017164,1917.6228265732464 L 440.02275556891993,1930.61959 L 469.97724443108007,1930.61959 L 496.96531032982836,1917.6228265732464 L 515.6416274596222,1894.203466365679 L 522.5,1864.154953484099 L 522.5,604.154953484099 L 530.4962874596222,569.1209063656788 L 553.4418303298281,540.3481065732467 L 586.5991044310803,524.38041 L 623.40089556892,524.38041 L 656.5581696701718,540.3481065732465 L 679.5037125403778,569.1209063656789 L 687.5,604.154953484099 L 687.5,1470.1648170460276 L 696.7724107574276,1504.7699251013958 L 721.3822856765378,1529.3798000205056 L 755.9873937319055,1538.6522107779333 L 775.0,1538.6522107779333 L 775.0,1533.6522107779333 L 756.645656219843,1533.6522107779333 z\"/><path fill-rule=\"evenodd\" fill=\"#ff3333\" stroke=\"#555555\" stroke-width=\"2.0\" opacity=\"0.6\" d=\"M 775.0,1553.6522107779333 L 775.0,1558.6522107779333 L 875.0,1711.1522107779333 L 875.0,1611.1522107779333 L 775.0,1553.6522107779333 z\"/><path fill-rule=\"evenodd\" fill=\"#ff3333\" stroke=\"#555555\" stroke-width=\"2.0\" opacity=\"0.6\" d=\"M 775.0,1538.6522107779333 L 775.0,1533.6522107779333 L 875.0,1381.1522107779333 L 875.0,1481.1522107779333 L 775.0,1538.6522107779333 z\"/></g><path fill-rule=\"evenodd\" fill=\"#66cc99\" stroke=\"#555555\" stroke-width=\"0\" opacity=\"0.6\" d=\"M 878.0,1111.1522107779333 L 878.0,1711.1522107779333 L 1178.0,1711.1522107779333 L 1178.0,1111.1522107779333 L 878.0,1111.1522107779333 z\"/><path fill-rule=\"evenodd\" fill=\"#66cc99\" stroke=\"#555555\" stroke-width=\"0\" opacity=\"0.6\" d=\"M 1480.0,612.5 L 1680.0,780.0 L 1980.0,780.0 L 1980.0,420.0 L 1680.0,420.0 L 1480.0,587.5 L 1480.0,592.5 L 1680.0,480.0 L 1920.0,480.0 L 1920.0,720.0 L 1680.0,720.0 L 1480.0,607.5 L 1480.0,612.5 z\"/><path fill-rule=\"evenodd\" fill=\"#66cc99\" stroke=\"#555555\" stroke-width=\"0\" opacity=\"0.6\" d=\"M 1480.0,1012.5 L 1680.0,1180.0 L 1980.0,1180.0 L 1980.0,820.0 L 1680.0,820.0 L 1480.0,987.5 L 1480.0,992.5 L 1680.0,880.0 L 1920.0,880.0 L 1920.0,1120.0 L 1680.0,1120.0 L 1480.0,1007.5 L 1480.0,1012.5 z\"/><path fill-rule=\"evenodd\" fill=\"#66cc99\" stroke=\"#555555\" stroke-width=\"0\" opacity=\"0.6\" d=\"M 1480.0,1412.5 L 1680.0,1580.0 L 1980.0,1580.0 L 1980.0,1220.0 L 1680.0,1220.0 L 1480.0,1387.5 L 1480.0,1392.5 L 1680.0,1280.0 L 1920.0,1280.0 L 1920.0,1520.0 L 1680.0,1520.0 L 1480.0,1407.5 L 1480.0,1412.5 z\"/><path fill-rule=\"evenodd\" fill=\"#66cc99\" stroke=\"#555555\" stroke-width=\"0\" opacity=\"0.6\" d=\"M 1480.0,1812.5 L 1680.0,1980.0 L 1980.0,1980.0 L 1980.0,1620.0 L 1680.0,1620.0 L 1480.0,1787.5 L 1480.0,1792.5 L 1680.0,1680.0 L 1920.0,1680.0 L 1920.0,1920.0 L 1680.0,1920.0 L 1480.0,1807.5 L 1480.0,1812.5 z\"/><path fill-rule=\"evenodd\" fill=\"#66cc99\" stroke=\"#555555\" stroke-width=\"0\" opacity=\"0.6\" d=\"M 870.6456562198427,1293.6522107779333 L 837.9704761275631,1284.8969226596655 L 815.2552881182677,1262.1817346503701 L 806.5,1229.506554558091 L 806.5,676.6456554737574 L 815.2552839579065,643.970475571757 L 837.970475571757,621.2552839579065 L 870.6456554737574,612.5 L 1480.0,612.5 L 1480.0,607.5 L 869.9873932842545,607.5 L 835.3822853430544,616.7724063747438 L 810.7724063747438,641.3822853430544 L 801.5,675.9873932842545 L 801.5,1230.1648170460276 L 810.7724107574276,1264.7699251013953 L 835.3822856765379,1289.379800020506 L 869.9873937319053,1298.6522107779333 L 875.0,1298.6522107779333 L 878.0,1298.6522107779333 L 878.0,1293.6522107779333 L 875.0,1293.6522107779333 L 870.6456562198427,1293.6522107779333 z\"/><path fill-rule=\"evenodd\" fill=\"#66cc99\" stroke=\"#555555\" stroke-width=\"0\" opacity=\"0.6\" d=\"M 867.3543445262426,587.5 L 825.029524428243,598.8408960420935 L 792.8408960420935,631.029524428243 L 781.5,673.3543445262426 L 781.5,1232.7978669977756 L 792.8409013140664,1275.1226869054967 L 825.0295238724369,1307.311309463867 L 867.3543437801573,1318.6522107779333 L 870.0,1318.6522107779333 L 870.0,1328.6522107779333 L 875.0,1328.6522107779333 L 875.0,1318.6522107779333 L 875.0,1313.6522107779333 L 868.0126062680947,1313.6522107779333 L 827.6177143234621,1302.8284321030264 L 797.3237786749065,1272.534496454471 L 786.5,1232.139604509839 L 786.5,674.0126067157455 L 797.3237736252562,633.6177146569456 L 827.6177146569456,603.3237736252562 L 868.0126067157455,592.5 L 1480.0,592.5 L 1480.0,587.5 L 867.3543445262426,587.5 z\"/><path fill-rule=\"evenodd\" fill=\"#66cc99\" stroke=\"#555555\" stroke-width=\"0\" opacity=\"0.6\" d=\"M 1480.0,1412.5 L 1480.0,1407.5 L 1181.0,1407.5 L 1181.0,1412.5 L 1181.0,1422.5 L 1186.0,1422.5 L 1186.0,1412.5 L 1480.0,1412.5 z\"/><path fill-rule=\"evenodd\" fill=\"#66cc99\" stroke=\"#555555\" stroke-width=\"0\" opacity=\"0.6\" d=\"M 1181.0,1392.5 L 1480.0,1392.5 L 1480.0,1387.5 L 1181.0,1387.5 L 1178.0,1387.5 L 1178.0,1392.5 L 1181.0,1392.5 z\"/><path fill-rule=\"evenodd\" fill=\"#66cc99\" stroke=\"#555555\" stroke-width=\"0\" opacity=\"0.6\" d=\"M 1040.5,1012.5 L 1480.0,1012.5 L 1480.0,1007.5 L 1035.5,1007.5 L 1035.5,1111.1522107779333 L 1040.5,1111.1522107779333 L 1040.5,1012.5 z\"/><path fill-rule=\"evenodd\" fill=\"#66cc99\" stroke=\"#555555\" stroke-width=\"0\" opacity=\"0.6\" d=\"M 1015.5,987.5 L 1015.5,1111.1522107779333 L 1020.5,1111.1522107779333 L 1020.5,992.5 L 1480.0,992.5 L 1480.0,987.5 L 1015.5,987.5 z\"/><path fill-rule=\"evenodd\" fill=\"#66cc99\" stroke=\"#555555\" stroke-width=\"0\" opacity=\"0.6\" d=\"M 1015.5,1812.5 L 1480.0,1812.5 L 1480.0,1807.5 L 1020.5,1807.5 L 1020.5,1711.1522107779333 L 1015.5,1711.1522107779333 L 1015.5,1812.5 z\"/><path fill-rule=\"evenodd\" fill=\"#66cc99\" stroke=\"#555555\" stroke-width=\"0\" opacity=\"0.6\" d=\"M 1040.5,1787.5 L 1040.5,1711.1522107779333 L 1035.5,1711.1522107779333 L 1035.5,1792.5 L 1480.0,1792.5 L 1480.0,1787.5 L 1040.5,1787.5 z\"/></svg>"
      ],
      "text/plain": [
       "<IPython.core.display.SVG object>"
      ]
     },
     "metadata": {},
     "output_type": "display_data"
    }
   ],
   "source": [
    "disp.display_svg([\n",
    "    disp.generate_svg_grid(0,0,WF,WF,20,200,dattrib={\"stroke-width\":\"3\"},Dattrib={\"stroke-width\":\"3\"}),\n",
    "    disp.nice_svg( feedline_with_launchers ),\n",
    "    disp.nice_svg( resonator_with_inlauncher ),\n",
    "    disp.nice_svg( samplespace ),\n",
    "    *[disp.nice_svg( l ) for l in gate_launchers ],\n",
    "    disp.nice_svg( flux1L ),\n",
    "    disp.nice_svg( flux1R ),\n",
    "    disp.nice_svg( flux2L ),\n",
    "    disp.nice_svg( flux2R ),\n",
    "    disp.nice_svg( gate1L ),\n",
    "    disp.nice_svg( gate1R ),\n",
    "    disp.nice_svg( gate2L ),\n",
    "    disp.nice_svg( gate2R ),\n",
    "   #disp.nice_svg( flux2R_endcap, attribs = {'fill':'#FF0', 'stroke-width':'0'} ),\n",
    "    \n",
    "],\n",
    "    #(800,1000,1400,1600)\n",
    "    (0,0,WF,WF)\n",
    ")"
   ]
  },
  {
   "cell_type": "markdown",
   "metadata": {},
   "source": [
    "### Exporting\n",
    "Save as, dxf as well as .gds file, also save a read only version of the notebook generating the .dxf and .gds files."
   ]
  },
  {
   "cell_type": "code",
   "execution_count": 11,
   "metadata": {
    "ExecuteTime": {
     "end_time": "2020-09-07T08:35:34.851999Z",
     "start_time": "2020-09-07T08:35:34.807554Z"
    }
   },
   "outputs": [
    {
     "name": "stdout",
     "output_type": "stream",
     "text": [
      "SaclayStyle-2f2gv1.4-200907-103534-generator.ipynb w\n"
     ]
    }
   ],
   "source": [
    "gdss = []\n",
    "for p in feedline_with_launchers:\n",
    "    gdss.append( gds.poly_to_gds(p, layer=1) )\n",
    "for p in resonator_with_inlauncher:\n",
    "    gdss.append( gds.poly_to_gds(p, layer=2) )\n",
    "gdss.append( gds.poly_to_gds(samplespace, layer=3) )\n",
    "for p in [gate_launchers[0], flux1L, flux1R]:\n",
    "    gdss.append( gds.poly_to_gds(p, layer=4) )\n",
    "for p in [gate_launchers[2], flux2L, flux2R]:\n",
    "    gdss.append( gds.poly_to_gds(p, layer=5) )\n",
    "for p in [gate_launchers[1], gate1L, gate1R]:\n",
    "    gdss.append( gds.poly_to_gds(p, layer=6) )\n",
    "for p in [gate_launchers[3], gate2L, gate2R]:\n",
    "    gdss.append( gds.poly_to_gds(p, layer=7) )\n",
    "\n",
    "gds.save_gds_polys( gdss, \"SaclayStyle-2f2gv1.4\", save_notebook = True)"
   ]
  },
  {
   "cell_type": "code",
   "execution_count": 12,
   "metadata": {
    "ExecuteTime": {
     "end_time": "2020-09-07T08:35:36.420937Z",
     "start_time": "2020-09-07T08:35:36.383002Z"
    }
   },
   "outputs": [],
   "source": [
    "dxf.save_dxf([\n",
    "    *feedline_with_launchers,\n",
    "    *resonator_with_inlauncher,\n",
    "    samplespace,\n",
    "    *gate_launchers,\n",
    "    flux1L,\n",
    "    flux1R,\n",
    "    flux2L,\n",
    "    flux2R,\n",
    "    gate1L,\n",
    "    gate1R,\n",
    "    gate2L,\n",
    "    gate2R,\n",
    "], \"SaclayStyle-2f2gv1.4\")"
   ]
  },
  {
   "cell_type": "code",
   "execution_count": null,
   "metadata": {},
   "outputs": [],
   "source": []
  }
 ],
 "metadata": {
  "hide_input": false,
  "kernelspec": {
   "display_name": "Python 3",
   "language": "python",
   "name": "python3"
  },
  "language_info": {
   "codemirror_mode": {
    "name": "ipython",
    "version": 3
   },
   "file_extension": ".py",
   "mimetype": "text/x-python",
   "name": "python",
   "nbconvert_exporter": "python",
   "pygments_lexer": "ipython3",
   "version": "3.8.5"
  },
  "latex_envs": {
   "LaTeX_envs_menu_present": true,
   "autoclose": false,
   "autocomplete": true,
   "bibliofile": "biblio.bib",
   "cite_by": "apalike",
   "current_citInitial": 1,
   "eqLabelWithNumbers": true,
   "eqNumInitial": 1,
   "hotkeys": {
    "equation": "Ctrl-E",
    "itemize": "Ctrl-I"
   },
   "labels_anchors": false,
   "latex_user_defs": false,
   "report_style_numbering": false,
   "user_envs_cfg": false
  },
  "toc": {
   "base_numbering": 1,
   "nav_menu": {},
   "number_sections": true,
   "sideBar": true,
   "skip_h1_title": false,
   "title_cell": "Table of Contents",
   "title_sidebar": "Contents",
   "toc_cell": false,
   "toc_position": {
    "height": "calc(100% - 180px)",
    "left": "10px",
    "top": "150px",
    "width": "272.8px"
   },
   "toc_section_display": true,
   "toc_window_display": true
  }
 },
 "nbformat": 4,
 "nbformat_minor": 4
}
